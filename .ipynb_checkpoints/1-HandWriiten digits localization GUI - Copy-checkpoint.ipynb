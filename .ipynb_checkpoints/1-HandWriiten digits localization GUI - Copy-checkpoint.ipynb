{
 "cells": [
  {
   "cell_type": "markdown",
   "id": "35ff18f0",
   "metadata": {},
   "source": [
    "# I can use data this way, but a lot much data is required to train a Neural network. So ill download mnist dataset and train with it."
   ]
  },
  {
   "cell_type": "code",
   "execution_count": 1,
   "id": "9d717c19",
   "metadata": {},
   "outputs": [
    {
     "name": "stdout",
     "output_type": "stream",
     "text": [
      "(60000, 28, 28)\n",
      "(60000,)\n",
      "(60000, 24, 24, 1)\n",
      "(60000, 1)\n"
     ]
    },
    {
     "data": {
      "text/plain": [
       "<matplotlib.image.AxesImage at 0x2a03c9ee2e0>"
      ]
     },
     "execution_count": 1,
     "metadata": {},
     "output_type": "execute_result"
    },
    {
     "data": {
      "image/png": "[encoded data removed]",
      "text/plain": [
       "<Figure size 288x288 with 1 Axes>"
      ]
     },
     "metadata": {
      "needs_background": "light"
     },
     "output_type": "display_data"
    }
   ],
   "source": [
    "from keras.datasets import mnist\n",
    "import os \n",
    "import PIL\n",
    "import cv2\n",
    "import numpy as np\n",
    "import matplotlib.pyplot as plt\n",
    "import tensorflow as tf\n",
    "from tensorflow import keras\n",
    "\n",
    "\n",
    "data=mnist.load_data()\n",
    "print(data[0][0].shape)\n",
    "print(data[0][1].shape)\n",
    "\n",
    "x_data = data[0][0]\n",
    "y_data = data[0][1]\n",
    "\n",
    "\n",
    "\n",
    "x_data=x_data.reshape(60000, 28, 28,1)\n",
    "y_data=y_data.reshape(60000,1)\n",
    "\n",
    "x_data=x_data/255\n",
    "#scalling the image\n",
    "x_data=x_data[:,2:26,2:26]\n",
    "print(x_data.shape)\n",
    "print(y_data.shape)\n",
    "\n",
    "\n",
    "plt.matshow(x_data[3])"
   ]
  },
  {
   "cell_type": "markdown",
   "id": "0239eddf",
   "metadata": {},
   "source": [
    "# Preparing the data for object localization "
   ]
  },
  {
   "cell_type": "code",
   "execution_count": 2,
   "id": "179329a0",
   "metadata": {},
   "outputs": [],
   "source": [
    "from PIL import Image, ImageDraw\n",
    "import random"
   ]
  },
  {
   "cell_type": "code",
   "execution_count": 3,
   "id": "4f8bb276",
   "metadata": {},
   "outputs": [],
   "source": [
    "FULL_SHAPE = (80,80)\n",
    "IMG_SHAPE = (24,24)\n",
    "x_data=x_data.reshape(60000, IMG_SHAPE[0], IMG_SHAPE[0])\n",
    "\n",
    "y_box_data=[]\n",
    "x_new=[]\n",
    "def localize_obj(img):\n",
    "    new = np.zeros(FULL_SHAPE)\n",
    "    x = np.random.randint(0,FULL_SHAPE[0]-IMG_SHAPE[0])\n",
    "    y = np.random.randint(0,FULL_SHAPE[0]-IMG_SHAPE[0])\n",
    "    new[x:x+IMG_SHAPE[0],y:y+IMG_SHAPE[0]] = x_data[img]\n",
    "    x_new.append(new)\n",
    "    #plt.imshow(new)\n",
    "    y_box_data.append([y,x])"
   ]
  },
  {
   "cell_type": "code",
   "execution_count": 4,
   "id": "3909cff0",
   "metadata": {},
   "outputs": [],
   "source": [
    "for i in range(len(x_data)):\n",
    "    localize_obj(i)"
   ]
  },
  {
   "cell_type": "code",
   "execution_count": 5,
   "id": "7a6e8ef6",
   "metadata": {},
   "outputs": [
    {
     "name": "stdout",
     "output_type": "stream",
     "text": [
      "[0, 6]\n"
     ]
    },
    {
     "data": {
      "image/png": "[encoded data removed]",
      "text/plain": [
       "<Figure size 432x288 with 1 Axes>"
      ]
     },
     "metadata": {
      "needs_background": "light"
     },
     "output_type": "display_data"
    }
   ],
   "source": [
    "plt.imshow(x_new[15])\n",
    "print(y_box_data[15])"
   ]
  },
  {
   "cell_type": "code",
   "execution_count": 6,
   "id": "cf27fd89",
   "metadata": {},
   "outputs": [],
   "source": [
    "def plot_bb(img,x,y , pred_coords=[]):\n",
    "    plt.imshow(img)\n",
    "    x_coor = x\n",
    "    y_coor = y\n",
    "    plt.plot([x_coor,x_coor+IMG_SHAPE[0]] , [y_coor,y_coor],color='g',linewidth=3)\n",
    "    plt.plot([x_coor,x_coor+IMG_SHAPE[0]] , [y_coor+IMG_SHAPE[0],y_coor+IMG_SHAPE[0]],color='g',linewidth=3)\n",
    "    plt.plot([x_coor,x_coor] , [y_coor,y_coor+IMG_SHAPE[0]],color='g',linewidth=3)\n",
    "    plt.plot([x_coor+IMG_SHAPE[0],x_coor+IMG_SHAPE[0]] , [y_coor,y_coor+IMG_SHAPE[0]],color='g',linewidth=3)\n",
    "\n",
    "    \n",
    "    if len(pred_coords)==2:\n",
    "        x1,y1 = pred_coords\n",
    "        \n",
    "        limit = FULL_SHAPE[0]-1\n",
    "        \n",
    "        \n",
    "        if x1 < limit and y1 < limit :\n",
    "        \n",
    "            x2 =min(limit , x1+IMG_SHAPE[0]) \n",
    "            y2 =min(limit , y1+IMG_SHAPE[0] )\n",
    "\n",
    "\n",
    "\n",
    "            plt.plot([x1,x2] , [y1,y1],color='r',linewidth=3)\n",
    "            plt.plot([x1,x2] , [y2,y2],color='r',linewidth=3)\n",
    "            plt.plot([x1,x1] , [y1,y2],color='r',linewidth=3)\n",
    "            \n",
    "            plt.plot([x2,x2] , [y1,y2],color='r',linewidth=3)\n",
    "\n",
    "    "
   ]
  },
  {
   "cell_type": "code",
   "execution_count": 7,
   "id": "0b8be2ae",
   "metadata": {},
   "outputs": [
    {
     "data": {
      "image/png": "[encoded data removed]",
      "text/plain": [
       "<Figure size 432x288 with 1 Axes>"
      ]
     },
     "metadata": {
      "needs_background": "light"
     },
     "output_type": "display_data"
    }
   ],
   "source": [
    "plot_bb(x_new[0], y_box_data[0][0] , y_box_data[0][1] , [72,22])"
   ]
  },
  {
   "cell_type": "code",
   "execution_count": 8,
   "id": "5cf183fd",
   "metadata": {
    "scrolled": true
   },
   "outputs": [
    {
     "data": {
      "image/png": "[encoded data removed]",
      "text/plain": [
       "<Figure size 432x288 with 5 Axes>"
      ]
     },
     "metadata": {
      "needs_background": "light"
     },
     "output_type": "display_data"
    }
   ],
   "source": [
    "for i in range(5):\n",
    "    plt.subplot(2,5,i+1)\n",
    "    plot_bb(x_new[i], y_box_data[i][0] , y_box_data[i][1])\n",
    "plt.show()"
   ]
  },
  {
   "cell_type": "code",
   "execution_count": 9,
   "id": "7d17978c",
   "metadata": {},
   "outputs": [],
   "source": [
    "# now our data is x_new, y_data, y_box_data"
   ]
  },
  {
   "cell_type": "code",
   "execution_count": 10,
   "id": "00ade086",
   "metadata": {},
   "outputs": [
    {
     "data": {
      "text/plain": [
       "(60000, 80, 80, 1)"
      ]
     },
     "execution_count": 10,
     "metadata": {},
     "output_type": "execute_result"
    }
   ],
   "source": [
    "x_new=np.array(x_new).reshape(60000, 80, 80,1)\n",
    "x_new.shape"
   ]
  },
  {
   "cell_type": "code",
   "execution_count": 11,
   "id": "b613fa64",
   "metadata": {},
   "outputs": [
    {
     "name": "stdout",
     "output_type": "stream",
     "text": [
      "<class 'numpy.ndarray'>\n",
      "<class 'numpy.ndarray'>\n",
      "<class 'list'>\n"
     ]
    }
   ],
   "source": [
    "\n",
    "print(type(x_new.astype(np.float32)))\n",
    "print(type(y_data))\n",
    "print(type(y_box_data))\n"
   ]
  },
  {
   "cell_type": "code",
   "execution_count": null,
   "id": "7c6d44d8",
   "metadata": {},
   "outputs": [],
   "source": []
  },
  {
   "cell_type": "code",
   "execution_count": 14,
   "id": "efbbd697",
   "metadata": {},
   "outputs": [],
   "source": [
    "dataset1 = tf.data.Dataset.from_tensor_slices(x_new.astype(np.float32))\n",
    "#dataset2 =tf.data.Dataset.from_tensor_slices((y_data,y_box_data))\n",
    "dataset2 =tf.data.Dataset.from_tensor_slices({ 'class_out':y_data,'box_out' : y_box_data})\n",
    "\n",
    "dataset = tf.data.Dataset.zip((dataset1,dataset2))\n",
    "dataset = dataset.shuffle(200)\n",
    "dataset = dataset.batch(10)\n",
    "dataset = dataset.prefetch(4)"
   ]
  },
  {
   "cell_type": "code",
   "execution_count": 15,
   "id": "50425b70",
   "metadata": {},
   "outputs": [],
   "source": [
    "val_dataset = dataset.take(100)\n",
    "test_dataset = dataset.skip(100).take(10)\n",
    "train_dataset = dataset.skip(100).skip(10)"
   ]
  },
  {
   "cell_type": "code",
   "execution_count": 16,
   "id": "b50dc819",
   "metadata": {},
   "outputs": [
    {
     "data": {
      "text/plain": [
       "5890"
      ]
     },
     "execution_count": 16,
     "metadata": {},
     "output_type": "execute_result"
    }
   ],
   "source": [
    "len(list(train_dataset.as_numpy_iterator()))"
   ]
  },
  {
   "cell_type": "markdown",
   "id": "6a3013e7",
   "metadata": {},
   "source": [
    "# Creating CNN model for image classifiation and object localization"
   ]
  },
  {
   "cell_type": "code",
   "execution_count": 13,
   "id": "fa1e3c96",
   "metadata": {},
   "outputs": [],
   "source": [
    "import tensorflow as tf\n",
    "from tensorflow import keras"
   ]
  },
  {
   "cell_type": "markdown",
   "id": "484b7189",
   "metadata": {},
   "source": [
    "##### For better model performance : \n",
    "- Data Augumentaion\n",
    "- increase the complexity of the model\n",
    "- use dropour regularization\n",
    "- batch normalization\n",
    "- Scale the image"
   ]
  },
  {
   "cell_type": "raw",
   "id": "341f1593",
   "metadata": {},
   "source": [
    "data_Aug= keras.Sequential([\n",
    "    keras.layers.experimental.preprocessing.RandomFlip('horizontal',input_shape=(28,28,1)),\n",
    "    keras.layers.experimental.preprocessing.RandomContrast(0.2),\n",
    "    keras.layers.experimental.preprocessing.RandomRotation(0.1),\n",
    "])\n",
    "\n",
    "model = keras.Sequential([\n",
    "    #data_Aug,\n",
    "    keras.layers.Conv2D(16,3,padding='same',activation='relu',input_shape=(28,28,1)),\n",
    "    keras.layers.MaxPooling2D(),\n",
    "    keras.layers.Conv2D(32,3,padding='same',activation='relu'),\n",
    "    keras.layers.MaxPooling2D(),\n",
    "    keras.layers.Conv2D(64,3,padding='same',activation='relu'),\n",
    "    keras.layers.MaxPooling2D(),\n",
    "    keras.layers.Conv2D(128,3,padding='same',activation='relu'),\n",
    "    keras.layers.MaxPooling2D(),\n",
    "    keras.layers.Flatten(),\n",
    "    keras.layers.Dense(1028,activation='relu'),\n",
    "    keras.layers.Dropout(0.2),\n",
    "    keras.layers.Dense(400,activation='relu'),\n",
    "    #keras.layers.BatchNormalization(),\n",
    "    keras.layers.Dense(10,activation='sigmoid'),\n",
    "])\n",
    "\n",
    "model.compile(optimizer='adam',loss='sparse_categorical_crossentropy',metrics=['accuracy'])\n",
    "\n",
    "from keras.callbacks import ModelCheckpoint, EarlyStopping, TensorBoard,CSVLogger\n",
    "\n",
    "tb_callback=TensorBoard(log_dir=\"logs/\",histogram_freq=1)\n",
    "filepath = \"saved_model/weights-improvement-{epoch:02d}--{val_accuracy:.2f}.hdf5\"\n",
    "\n",
    "checkpoint = ModelCheckpoint(filepath,monitor='val_accuracy',verbose=1,save_best_only=True,mode = 'max')\n",
    "\n",
    "early_stop = EarlyStopping(monitor=\"val_loss\" , patience = 3,verbose=1)\n",
    "\n",
    "log_csv = CSVLogger(\"my_logs.csv\",separator=\",\",append=False)\n",
    "\n",
    "callbacks_list = [tb_callback,checkpoint,early_stop,log_csv]\n",
    "model.fit(x_train,y_train,epochs=10,validation_split=0.04,callbacks=callbacks_list)\n",
    "\n",
    "\n",
    "model.save('digits_recog_model1.h5')"
   ]
  },
  {
   "cell_type": "code",
   "execution_count": 17,
   "id": "50bd4e66",
   "metadata": {
    "scrolled": true
   },
   "outputs": [
    {
     "name": "stdout",
     "output_type": "stream",
     "text": [
      "Model: \"model\"\n",
      "__________________________________________________________________________________________________\n",
      "Layer (type)                    Output Shape         Param #     Connected to                     \n",
      "==================================================================================================\n",
      "image (InputLayer)              [(None, 80, 80, 1)]  0                                            \n",
      "__________________________________________________________________________________________________\n",
      "conv2d (Conv2D)                 (None, 78, 78, 16)   160         image[0][0]                      \n",
      "__________________________________________________________________________________________________\n",
      "max_pooling2d (MaxPooling2D)    (None, 39, 39, 16)   0           conv2d[0][0]                     \n",
      "__________________________________________________________________________________________________\n",
      "conv2d_1 (Conv2D)               (None, 37, 37, 32)   4640        max_pooling2d[0][0]              \n",
      "__________________________________________________________________________________________________\n",
      "max_pooling2d_1 (MaxPooling2D)  (None, 18, 18, 32)   0           conv2d_1[0][0]                   \n",
      "__________________________________________________________________________________________________\n",
      "conv2d_2 (Conv2D)               (None, 16, 16, 64)   18496       max_pooling2d_1[0][0]            \n",
      "__________________________________________________________________________________________________\n",
      "max_pooling2d_2 (MaxPooling2D)  (None, 8, 8, 64)     0           conv2d_2[0][0]                   \n",
      "__________________________________________________________________________________________________\n",
      "batch_normalization (BatchNorma (None, 8, 8, 64)     256         max_pooling2d_2[0][0]            \n",
      "__________________________________________________________________________________________________\n",
      "flatten (Flatten)               (None, 4096)         0           batch_normalization[0][0]        \n",
      "__________________________________________________________________________________________________\n",
      "dense (Dense)                   (None, 512)          2097664     flatten[0][0]                    \n",
      "__________________________________________________________________________________________________\n",
      "dense_1 (Dense)                 (None, 256)          131328      dense[0][0]                      \n",
      "__________________________________________________________________________________________________\n",
      "class_out (Dense)               (None, 10)           2570        dense_1[0][0]                    \n",
      "__________________________________________________________________________________________________\n",
      "box_out (Dense)                 (None, 2)            514         dense_1[0][0]                    \n",
      "==================================================================================================\n",
      "Total params: 2,255,628\n",
      "Trainable params: 2,255,500\n",
      "Non-trainable params: 128\n",
      "__________________________________________________________________________________________________\n"
     ]
    }
   ],
   "source": [
    "from tensorflow.keras.layers import Input, Dense, Flatten, Conv2D, MaxPool2D, BatchNormalization, Dropout\n",
    "\n",
    "inp = Input(shape = x_new[0].shape , name = 'image')\n",
    "x = inp\n",
    "\n",
    "for i in range(0,3):\n",
    "    n_filters = 2**(4+i)\n",
    "    x = Conv2D(n_filters,3,activation=\"relu\")(x)\n",
    "    x = MaxPool2D(2)(x)\n",
    "\n",
    "x = BatchNormalization()(x)\n",
    "x=Flatten()(x)\n",
    "x = Dense(512 , activation=\"relu\")(x)\n",
    "x = Dense(256 , activation='relu')(x)\n",
    "\n",
    "class_out = Dense(10 , activation='softmax' , name='class_out')(x)\n",
    "\n",
    "box_out = Dense(2, name='box_out')(x)\n",
    "\n",
    "\n",
    "model = keras.models.Model(inp , [class_out,box_out])\n",
    "model.summary()"
   ]
  },
  {
   "cell_type": "markdown",
   "id": "148f1097",
   "metadata": {},
   "source": [
    "# Custom metric : IOU"
   ]
  },
  {
   "cell_type": "code",
   "execution_count": 18,
   "id": "e380149f",
   "metadata": {},
   "outputs": [],
   "source": [
    "class IOU(tf.keras.metrics.Metric):\n",
    "    def __init__(self, **kwargs):\n",
    "        super(IOU , self).__init__(**kwargs)\n",
    "        \n",
    "        self.iou = self.add_weight(name='iou',initializer = 'zeros')\n",
    "        self.total_iou = self.add_weight(name='total_iou',initializer = 'zeros')\n",
    "        self.num_ex = self.add_weight(name='num_ex',initializer = 'zeros')\n",
    "    def update_state(self,y_true,y_pred, sample_weight=None):\n",
    "        def get_box(y):\n",
    "            rows ,cols = y[:,0],y[:,1]\n",
    "            x1,y1 = rows,cols\n",
    "            x2,y2 = x1+IMG_SHAPE[0] , y1+IMG_SHAPE[0]\n",
    "            return x1,y1,x2,y2\n",
    "        def get_area(x1,y1,x2,y2):\n",
    "            return tf.math.abs(x2-x1)*tf.math.abs(y2-y1)\n",
    "        \n",
    "        tx1,ty1,tx2,ty2 = get_box(y_true)\n",
    "        px1,py1,px2,py2 = get_box(y_pred)\n",
    "        \n",
    "        \n",
    "        x1 = tf.maximum(tx1,px1)\n",
    "        x2 = tf.minimum(tx2,px2)\n",
    "        y1 = tf.maximum(ty1,py1)\n",
    "        y2 = tf.minimum(ty2,py2)\n",
    "        \n",
    "        i_area = get_area(x1,y1,x2,y2)\n",
    "        u_area = get_area(tx1,ty1,tx2,ty2) + get_area(px1,py1,px2,py2) - i_area\n",
    "        \n",
    "        iou  = tf.math.divide(i_area,u_area)\n",
    "        self.num_ex.assign_add(1)\n",
    "        self.total_iou.assign_add(tf.reduce_mean(iou))\n",
    "        self.iou = tf.math.divide(self.total_iou,self.num_ex)\n",
    "    def result(self):\n",
    "        return self.iou\n",
    "    def reset_state(self):\n",
    "        self.iou = self.add_weight(name='iou',initializer='zeros')\n",
    "        self.total_iou = self.add_weight(name='total_iou',initializer='zeros')\n",
    "        self.num_ex = self.add_weight(name='num_ex',initializer='zeros')"
   ]
  },
  {
   "cell_type": "markdown",
   "id": "f7c5f99e",
   "metadata": {},
   "source": [
    "# Compiling the model"
   ]
  },
  {
   "cell_type": "code",
   "execution_count": 19,
   "id": "308e300d",
   "metadata": {
    "scrolled": true
   },
   "outputs": [],
   "source": [
    "model.compile(\n",
    "loss = {\n",
    "  'class_out' : 'sparse_categorical_crossentropy',\n",
    "    'box_out':'mse'\n",
    "},\n",
    "    \n",
    "optimizer='adam',\n",
    "metrics={\n",
    "    'class_out' :'accuracy',\n",
    "    'box_out':\"accuracy\"                   # here we need to define our custom metric : IOU\n",
    "}\n",
    ")"
   ]
  },
  {
   "cell_type": "markdown",
   "id": "51955e72",
   "metadata": {},
   "source": [
    "# Custom callback : Model testing"
   ]
  },
  {
   "cell_type": "code",
   "execution_count": 20,
   "id": "fe6c7bfa",
   "metadata": {},
   "outputs": [],
   "source": [
    "testing = val_dataset.take(1)\n",
    "for i in testing.as_numpy_iterator():\n",
    "    img = i[0]\n",
    "    y_true= i[1]['class_out']\n",
    "    bb_true = i[1]['box_out']\n"
   ]
  },
  {
   "cell_type": "code",
   "execution_count": 21,
   "id": "581e9225",
   "metadata": {},
   "outputs": [],
   "source": [
    "def test_model(model) : \n",
    "    c,bb_pred =model.predict(img)\n",
    "    y_pred = []\n",
    "    for i in c:\n",
    "        y_pred.append(np.argmax(i))\n",
    "    y_pred=np.array(y_pred).reshape(len(c),1)        \n",
    "        \n",
    "    # we have y_true,y_pred,bb_true,bb_pred\n",
    "    \n",
    "    for i in range(4):\n",
    "        plt.subplot(1,4,i+1)\n",
    "        plot_bb(img[i], bb_true[i][0] , bb_true[i][1], bb_pred[i])\n",
    "        plt.xlabel('Truth : '+str( y_true[i][0]))\n",
    "        plt.ylabel('prediction : '+ str(y_pred[i][0]) )\n",
    "        plt.xticks([])\n",
    "        plt.yticks([])\n",
    "    plt.show()"
   ]
  },
  {
   "cell_type": "code",
   "execution_count": 22,
   "id": "140d059c",
   "metadata": {},
   "outputs": [
    {
     "data": {
      "image/png": "[encoded data removed]",
      "text/plain": [
       "<Figure size 432x288 with 4 Axes>"
      ]
     },
     "metadata": {},
     "output_type": "display_data"
    }
   ],
   "source": [
    "test_model(model)"
   ]
  },
  {
   "cell_type": "code",
   "execution_count": 23,
   "id": "35926e46",
   "metadata": {},
   "outputs": [],
   "source": [
    "# creating clustom callback so that we can view the test iages while training itself.\n",
    "\n",
    "class ShowValImages(tf.keras.callbacks.Callback):\n",
    "    def on_epoch_end(self,epoch,logs=None):\n",
    "        test_model(self.model)"
   ]
  },
  {
   "cell_type": "code",
   "execution_count": 24,
   "id": "ece29fb6",
   "metadata": {},
   "outputs": [],
   "source": [
    "from keras.callbacks import ModelCheckpoint, EarlyStopping, TensorBoard,CSVLogger\n",
    "\n",
    "tb_callback=TensorBoard(log_dir=\"logs_digits_loc/\",histogram_freq=1)\n",
    "filepath = \"saved_model_digits_loc/weights-improvement-{epoch:02d}--{val_accuracy:.2f}.hdf5\"\n",
    "checkpoint = ModelCheckpoint(filepath,monitor='val_accuracy',verbose=1,save_best_only=True,mode = 'max')\n",
    "early_stop = EarlyStopping(monitor=\"val_loss\" , patience = 3,verbose=1)\n",
    "log_csv = CSVLogger(\"my_logs_digits_loc.csv\",separator=\",\",append=False)\n",
    "\n",
    "callbacks_list = [tb_callback,checkpoint,early_stop,log_csv , ShowValImages()]\n",
    "\n",
    "callbacks_list = [ShowValImages()]"
   ]
  },
  {
   "cell_type": "markdown",
   "id": "94260c7c",
   "metadata": {},
   "source": [
    "# Training the model"
   ]
  },
  {
   "cell_type": "code",
   "execution_count": 25,
   "id": "9f628858",
   "metadata": {},
   "outputs": [
    {
     "name": "stdout",
     "output_type": "stream",
     "text": [
      "Epoch 1/10\n",
      "5890/5890 [==============================] - 390s 66ms/step - loss: 6.0494 - class_out_loss: 1.9425 - box_out_loss: 4.1068 - class_out_accuracy: 0.3351 - box_out_accuracy: 0.9799 - val_loss: 3.0502 - val_class_out_loss: 0.9165 - val_box_out_loss: 2.1337 - val_class_out_accuracy: 0.6870 - val_box_out_accuracy: 0.9860\n"
     ]
    },
    {
     "data": {
      "image/png": "[encoded data removed]",
      "text/plain": [
       "<Figure size 432x288 with 4 Axes>"
      ]
     },
     "metadata": {},
     "output_type": "display_data"
    },
    {
     "name": "stdout",
     "output_type": "stream",
     "text": [
      "Epoch 2/10\n",
      "5890/5890 [==============================] - 381s 65ms/step - loss: 1.7660 - class_out_loss: 0.5989 - box_out_loss: 1.1671 - class_out_accuracy: 0.8032 - box_out_accuracy: 0.9844 - val_loss: 2.1064 - val_class_out_loss: 0.6833 - val_box_out_loss: 1.4230 - val_class_out_accuracy: 0.7880 - val_box_out_accuracy: 0.9850\n"
     ]
    },
    {
     "data": {
      "image/png": "[encoded data removed]",
      "text/plain": [
       "<Figure size 432x288 with 4 Axes>"
      ]
     },
     "metadata": {},
     "output_type": "display_data"
    },
    {
     "name": "stdout",
     "output_type": "stream",
     "text": [
      "Epoch 3/10\n",
      "5890/5890 [==============================] - 374s 64ms/step - loss: 1.1438 - class_out_loss: 0.3410 - box_out_loss: 0.8028 - class_out_accuracy: 0.8966 - box_out_accuracy: 0.9856 - val_loss: 0.8371 - val_class_out_loss: 0.3387 - val_box_out_loss: 0.4984 - val_class_out_accuracy: 0.8910 - val_box_out_accuracy: 0.9900\n"
     ]
    },
    {
     "data": {
      "image/png": "[encoded data removed]",
      "text/plain": [
       "<Figure size 432x288 with 4 Axes>"
      ]
     },
     "metadata": {},
     "output_type": "display_data"
    },
    {
     "name": "stdout",
     "output_type": "stream",
     "text": [
      "Epoch 4/10\n",
      "5890/5890 [==============================] - 368s 63ms/step - loss: 0.8963 - class_out_loss: 0.2516 - box_out_loss: 0.6447 - class_out_accuracy: 0.9256 - box_out_accuracy: 0.9865 - val_loss: 0.8882 - val_class_out_loss: 0.2637 - val_box_out_loss: 0.6245 - val_class_out_accuracy: 0.9310 - val_box_out_accuracy: 0.9850968 - class_out_loss: 0.2519 - box_out_loss: 0.6449 - class_out_accuracy: 0.9254 -\n"
     ]
    },
    {
     "data": {
      "image/png": "[encoded data removed]",
      "text/plain": [
       "<Figure size 432x288 with 4 Axes>"
      ]
     },
     "metadata": {},
     "output_type": "display_data"
    },
    {
     "name": "stdout",
     "output_type": "stream",
     "text": [
      "Epoch 5/10\n",
      "  79/5890 [..............................] - ETA: 5:50 - loss: 0.6606 - class_out_loss: 0.1961 - box_out_loss: 0.4645 - class_out_accuracy: 0.9380 - box_out_accuracy: 0.9861"
     ]
    },
    {
     "ename": "KeyboardInterrupt",
     "evalue": "",
     "output_type": "error",
     "traceback": [
      "\u001b[1;31m---------------------------------------------------------------------------\u001b[0m",
      "\u001b[1;31mKeyboardInterrupt\u001b[0m                         Traceback (most recent call last)",
      "\u001b[1;32m<ipython-input-25-1ac0e1b9faa2>\u001b[0m in \u001b[0;36m<module>\u001b[1;34m\u001b[0m\n\u001b[1;32m----> 1\u001b[1;33m \u001b[0mmodel\u001b[0m\u001b[1;33m.\u001b[0m\u001b[0mfit\u001b[0m\u001b[1;33m(\u001b[0m\u001b[0mtrain_dataset\u001b[0m\u001b[1;33m,\u001b[0m\u001b[0mepochs\u001b[0m\u001b[1;33m=\u001b[0m\u001b[1;36m10\u001b[0m\u001b[1;33m,\u001b[0m\u001b[0mvalidation_data\u001b[0m\u001b[1;33m=\u001b[0m\u001b[0mval_dataset\u001b[0m\u001b[1;33m,\u001b[0m\u001b[0mcallbacks\u001b[0m\u001b[1;33m=\u001b[0m\u001b[0mcallbacks_list\u001b[0m\u001b[1;33m)\u001b[0m\u001b[1;33m\u001b[0m\u001b[1;33m\u001b[0m\u001b[0m\n\u001b[0m",
      "\u001b[1;32mc:\\users\\ragha\\appdata\\local\\programs\\python\\python39\\lib\\site-packages\\keras\\engine\\training.py\u001b[0m in \u001b[0;36mfit\u001b[1;34m(self, x, y, batch_size, epochs, verbose, callbacks, validation_split, validation_data, shuffle, class_weight, sample_weight, initial_epoch, steps_per_epoch, validation_steps, validation_batch_size, validation_freq, max_queue_size, workers, use_multiprocessing)\u001b[0m\n\u001b[0;32m   1182\u001b[0m                 _r=1):\n\u001b[0;32m   1183\u001b[0m               \u001b[0mcallbacks\u001b[0m\u001b[1;33m.\u001b[0m\u001b[0mon_train_batch_begin\u001b[0m\u001b[1;33m(\u001b[0m\u001b[0mstep\u001b[0m\u001b[1;33m)\u001b[0m\u001b[1;33m\u001b[0m\u001b[1;33m\u001b[0m\u001b[0m\n\u001b[1;32m-> 1184\u001b[1;33m               \u001b[0mtmp_logs\u001b[0m \u001b[1;33m=\u001b[0m \u001b[0mself\u001b[0m\u001b[1;33m.\u001b[0m\u001b[0mtrain_function\u001b[0m\u001b[1;33m(\u001b[0m\u001b[0miterator\u001b[0m\u001b[1;33m)\u001b[0m\u001b[1;33m\u001b[0m\u001b[1;33m\u001b[0m\u001b[0m\n\u001b[0m\u001b[0;32m   1185\u001b[0m               \u001b[1;32mif\u001b[0m \u001b[0mdata_handler\u001b[0m\u001b[1;33m.\u001b[0m\u001b[0mshould_sync\u001b[0m\u001b[1;33m:\u001b[0m\u001b[1;33m\u001b[0m\u001b[1;33m\u001b[0m\u001b[0m\n\u001b[0;32m   1186\u001b[0m                 \u001b[0mcontext\u001b[0m\u001b[1;33m.\u001b[0m\u001b[0masync_wait\u001b[0m\u001b[1;33m(\u001b[0m\u001b[1;33m)\u001b[0m\u001b[1;33m\u001b[0m\u001b[1;33m\u001b[0m\u001b[0m\n",
      "\u001b[1;32mc:\\users\\ragha\\appdata\\local\\programs\\python\\python39\\lib\\site-packages\\tensorflow\\python\\eager\\def_function.py\u001b[0m in \u001b[0;36m__call__\u001b[1;34m(self, *args, **kwds)\u001b[0m\n\u001b[0;32m    883\u001b[0m \u001b[1;33m\u001b[0m\u001b[0m\n\u001b[0;32m    884\u001b[0m       \u001b[1;32mwith\u001b[0m \u001b[0mOptionalXlaContext\u001b[0m\u001b[1;33m(\u001b[0m\u001b[0mself\u001b[0m\u001b[1;33m.\u001b[0m\u001b[0m_jit_compile\u001b[0m\u001b[1;33m)\u001b[0m\u001b[1;33m:\u001b[0m\u001b[1;33m\u001b[0m\u001b[1;33m\u001b[0m\u001b[0m\n\u001b[1;32m--> 885\u001b[1;33m         \u001b[0mresult\u001b[0m \u001b[1;33m=\u001b[0m \u001b[0mself\u001b[0m\u001b[1;33m.\u001b[0m\u001b[0m_call\u001b[0m\u001b[1;33m(\u001b[0m\u001b[1;33m*\u001b[0m\u001b[0margs\u001b[0m\u001b[1;33m,\u001b[0m \u001b[1;33m**\u001b[0m\u001b[0mkwds\u001b[0m\u001b[1;33m)\u001b[0m\u001b[1;33m\u001b[0m\u001b[1;33m\u001b[0m\u001b[0m\n\u001b[0m\u001b[0;32m    886\u001b[0m \u001b[1;33m\u001b[0m\u001b[0m\n\u001b[0;32m    887\u001b[0m       \u001b[0mnew_tracing_count\u001b[0m \u001b[1;33m=\u001b[0m \u001b[0mself\u001b[0m\u001b[1;33m.\u001b[0m\u001b[0mexperimental_get_tracing_count\u001b[0m\u001b[1;33m(\u001b[0m\u001b[1;33m)\u001b[0m\u001b[1;33m\u001b[0m\u001b[1;33m\u001b[0m\u001b[0m\n",
      "\u001b[1;32mc:\\users\\ragha\\appdata\\local\\programs\\python\\python39\\lib\\site-packages\\tensorflow\\python\\eager\\def_function.py\u001b[0m in \u001b[0;36m_call\u001b[1;34m(self, *args, **kwds)\u001b[0m\n\u001b[0;32m    915\u001b[0m       \u001b[1;31m# In this case we have created variables on the first call, so we run the\u001b[0m\u001b[1;33m\u001b[0m\u001b[1;33m\u001b[0m\u001b[1;33m\u001b[0m\u001b[0m\n\u001b[0;32m    916\u001b[0m       \u001b[1;31m# defunned version which is guaranteed to never create variables.\u001b[0m\u001b[1;33m\u001b[0m\u001b[1;33m\u001b[0m\u001b[1;33m\u001b[0m\u001b[0m\n\u001b[1;32m--> 917\u001b[1;33m       \u001b[1;32mreturn\u001b[0m \u001b[0mself\u001b[0m\u001b[1;33m.\u001b[0m\u001b[0m_stateless_fn\u001b[0m\u001b[1;33m(\u001b[0m\u001b[1;33m*\u001b[0m\u001b[0margs\u001b[0m\u001b[1;33m,\u001b[0m \u001b[1;33m**\u001b[0m\u001b[0mkwds\u001b[0m\u001b[1;33m)\u001b[0m  \u001b[1;31m# pylint: disable=not-callable\u001b[0m\u001b[1;33m\u001b[0m\u001b[1;33m\u001b[0m\u001b[0m\n\u001b[0m\u001b[0;32m    918\u001b[0m     \u001b[1;32melif\u001b[0m \u001b[0mself\u001b[0m\u001b[1;33m.\u001b[0m\u001b[0m_stateful_fn\u001b[0m \u001b[1;32mis\u001b[0m \u001b[1;32mnot\u001b[0m \u001b[1;32mNone\u001b[0m\u001b[1;33m:\u001b[0m\u001b[1;33m\u001b[0m\u001b[1;33m\u001b[0m\u001b[0m\n\u001b[0;32m    919\u001b[0m       \u001b[1;31m# Release the lock early so that multiple threads can perform the call\u001b[0m\u001b[1;33m\u001b[0m\u001b[1;33m\u001b[0m\u001b[1;33m\u001b[0m\u001b[0m\n",
      "\u001b[1;32mc:\\users\\ragha\\appdata\\local\\programs\\python\\python39\\lib\\site-packages\\tensorflow\\python\\eager\\function.py\u001b[0m in \u001b[0;36m__call__\u001b[1;34m(self, *args, **kwargs)\u001b[0m\n\u001b[0;32m   3037\u001b[0m       (graph_function,\n\u001b[0;32m   3038\u001b[0m        filtered_flat_args) = self._maybe_define_function(args, kwargs)\n\u001b[1;32m-> 3039\u001b[1;33m     return graph_function._call_flat(\n\u001b[0m\u001b[0;32m   3040\u001b[0m         filtered_flat_args, captured_inputs=graph_function.captured_inputs)  # pylint: disable=protected-access\n\u001b[0;32m   3041\u001b[0m \u001b[1;33m\u001b[0m\u001b[0m\n",
      "\u001b[1;32mc:\\users\\ragha\\appdata\\local\\programs\\python\\python39\\lib\\site-packages\\tensorflow\\python\\eager\\function.py\u001b[0m in \u001b[0;36m_call_flat\u001b[1;34m(self, args, captured_inputs, cancellation_manager)\u001b[0m\n\u001b[0;32m   1961\u001b[0m         and executing_eagerly):\n\u001b[0;32m   1962\u001b[0m       \u001b[1;31m# No tape is watching; skip to running the function.\u001b[0m\u001b[1;33m\u001b[0m\u001b[1;33m\u001b[0m\u001b[1;33m\u001b[0m\u001b[0m\n\u001b[1;32m-> 1963\u001b[1;33m       return self._build_call_outputs(self._inference_function.call(\n\u001b[0m\u001b[0;32m   1964\u001b[0m           ctx, args, cancellation_manager=cancellation_manager))\n\u001b[0;32m   1965\u001b[0m     forward_backward = self._select_forward_and_backward_functions(\n",
      "\u001b[1;32mc:\\users\\ragha\\appdata\\local\\programs\\python\\python39\\lib\\site-packages\\tensorflow\\python\\eager\\function.py\u001b[0m in \u001b[0;36mcall\u001b[1;34m(self, ctx, args, cancellation_manager)\u001b[0m\n\u001b[0;32m    589\u001b[0m       \u001b[1;32mwith\u001b[0m \u001b[0m_InterpolateFunctionError\u001b[0m\u001b[1;33m(\u001b[0m\u001b[0mself\u001b[0m\u001b[1;33m)\u001b[0m\u001b[1;33m:\u001b[0m\u001b[1;33m\u001b[0m\u001b[1;33m\u001b[0m\u001b[0m\n\u001b[0;32m    590\u001b[0m         \u001b[1;32mif\u001b[0m \u001b[0mcancellation_manager\u001b[0m \u001b[1;32mis\u001b[0m \u001b[1;32mNone\u001b[0m\u001b[1;33m:\u001b[0m\u001b[1;33m\u001b[0m\u001b[1;33m\u001b[0m\u001b[0m\n\u001b[1;32m--> 591\u001b[1;33m           outputs = execute.execute(\n\u001b[0m\u001b[0;32m    592\u001b[0m               \u001b[0mstr\u001b[0m\u001b[1;33m(\u001b[0m\u001b[0mself\u001b[0m\u001b[1;33m.\u001b[0m\u001b[0msignature\u001b[0m\u001b[1;33m.\u001b[0m\u001b[0mname\u001b[0m\u001b[1;33m)\u001b[0m\u001b[1;33m,\u001b[0m\u001b[1;33m\u001b[0m\u001b[1;33m\u001b[0m\u001b[0m\n\u001b[0;32m    593\u001b[0m               \u001b[0mnum_outputs\u001b[0m\u001b[1;33m=\u001b[0m\u001b[0mself\u001b[0m\u001b[1;33m.\u001b[0m\u001b[0m_num_outputs\u001b[0m\u001b[1;33m,\u001b[0m\u001b[1;33m\u001b[0m\u001b[1;33m\u001b[0m\u001b[0m\n",
      "\u001b[1;32mc:\\users\\ragha\\appdata\\local\\programs\\python\\python39\\lib\\site-packages\\tensorflow\\python\\eager\\execute.py\u001b[0m in \u001b[0;36mquick_execute\u001b[1;34m(op_name, num_outputs, inputs, attrs, ctx, name)\u001b[0m\n\u001b[0;32m     57\u001b[0m   \u001b[1;32mtry\u001b[0m\u001b[1;33m:\u001b[0m\u001b[1;33m\u001b[0m\u001b[1;33m\u001b[0m\u001b[0m\n\u001b[0;32m     58\u001b[0m     \u001b[0mctx\u001b[0m\u001b[1;33m.\u001b[0m\u001b[0mensure_initialized\u001b[0m\u001b[1;33m(\u001b[0m\u001b[1;33m)\u001b[0m\u001b[1;33m\u001b[0m\u001b[1;33m\u001b[0m\u001b[0m\n\u001b[1;32m---> 59\u001b[1;33m     tensors = pywrap_tfe.TFE_Py_Execute(ctx._handle, device_name, op_name,\n\u001b[0m\u001b[0;32m     60\u001b[0m                                         inputs, attrs, num_outputs)\n\u001b[0;32m     61\u001b[0m   \u001b[1;32mexcept\u001b[0m \u001b[0mcore\u001b[0m\u001b[1;33m.\u001b[0m\u001b[0m_NotOkStatusException\u001b[0m \u001b[1;32mas\u001b[0m \u001b[0me\u001b[0m\u001b[1;33m:\u001b[0m\u001b[1;33m\u001b[0m\u001b[1;33m\u001b[0m\u001b[0m\n",
      "\u001b[1;31mKeyboardInterrupt\u001b[0m: "
     ]
    }
   ],
   "source": [
    "model.fit(train_dataset,epochs=10,validation_data=val_dataset,callbacks=callbacks_list)"
   ]
  },
  {
   "cell_type": "markdown",
   "id": "6d86aafb",
   "metadata": {},
   "source": [
    "# Saving the model"
   ]
  },
  {
   "cell_type": "code",
   "execution_count": 26,
   "id": "97730017",
   "metadata": {},
   "outputs": [],
   "source": [
    "model.save('digits_localization_model.h5')"
   ]
  },
  {
   "cell_type": "code",
   "execution_count": null,
   "id": "ade0359c",
   "metadata": {},
   "outputs": [],
   "source": []
  },
  {
   "cell_type": "markdown",
   "id": "2cd59585",
   "metadata": {},
   "source": [
    "# Testing and Evaluating the model"
   ]
  },
  {
   "cell_type": "code",
   "execution_count": 74,
   "id": "93f92844",
   "metadata": {},
   "outputs": [],
   "source": [
    "def predict(i):\n",
    "    yyyy , bbbb = model.predict(x_new[i].reshape(1,80,80,1))\n",
    "    plot_bb(x_new[i], y_box_data[i][0] , y_box_data[i][1] , bbbb[0])\n",
    "    plt.xlabel(\"Truth : \"+ str(y_data[i][0]))\n",
    "    plt.ylabel(\"Predicted : \"+ str(np.argmax(yyyy)))\n",
    "    plt.show()"
   ]
  },
  {
   "cell_type": "code",
   "execution_count": 75,
   "id": "9ae135b9",
   "metadata": {},
   "outputs": [
    {
     "data": {
      "image/png": "[encoded data removed]",
      "text/plain": [
       "<Figure size 432x288 with 1 Axes>"
      ]
     },
     "metadata": {
      "needs_background": "light"
     },
     "output_type": "display_data"
    },
    {
     "data": {
      "image/png": "[encoded data removed]",
      "text/plain": [
       "<Figure size 432x288 with 1 Axes>"
      ]
     },
     "metadata": {
      "needs_background": "light"
     },
     "output_type": "display_data"
    },
    {
     "data": {
      "image/png": "[encoded data removed]",
      "text/plain": [
       "<Figure size 432x288 with 1 Axes>"
      ]
     },
     "metadata": {
      "needs_background": "light"
     },
     "output_type": "display_data"
    },
    {
     "data": {
      "image/png": "[encoded data removed]",
      "text/plain": [
       "<Figure size 432x288 with 1 Axes>"
      ]
     },
     "metadata": {
      "needs_background": "light"
     },
     "output_type": "display_data"
    },
    {
     "data": {
      "image/png": "[encoded data removed]",
      "text/plain": [
       "<Figure size 432x288 with 1 Axes>"
      ]
     },
     "metadata": {
      "needs_background": "light"
     },
     "output_type": "display_data"
    },
    {
     "data": {
      "image/png": "[encoded data removed]",
      "text/plain": [
       "<Figure size 432x288 with 1 Axes>"
      ]
     },
     "metadata": {
      "needs_background": "light"
     },
     "output_type": "display_data"
    },
    {
     "data": {
      "image/png": "[encoded data removed]",
      "text/plain": [
       "<Figure size 432x288 with 1 Axes>"
      ]
     },
     "metadata": {
      "needs_background": "light"
     },
     "output_type": "display_data"
    },
    {
     "data": {
      "image/png": "[encoded data removed]",
      "text/plain": [
       "<Figure size 432x288 with 1 Axes>"
      ]
     },
     "metadata": {
      "needs_background": "light"
     },
     "output_type": "display_data"
    },
    {
     "data": {
      "image/png": "[encoded data removed]",
      "text/plain": [
       "<Figure size 432x288 with 1 Axes>"
      ]
     },
     "metadata": {
      "needs_background": "light"
     },
     "output_type": "display_data"
    },
    {
     "data": {
      "image/png": "[encoded data removed]",
      "text/plain": [
       "<Figure size 432x288 with 1 Axes>"
      ]
     },
     "metadata": {
      "needs_background": "light"
     },
     "output_type": "display_data"
    }
   ],
   "source": [
    "for i in range(10):\n",
    "    predict(21+i)"
   ]
  },
  {
   "cell_type": "code",
   "execution_count": null,
   "id": "26a5feb4",
   "metadata": {},
   "outputs": [],
   "source": []
  },
  {
   "cell_type": "code",
   "execution_count": 27,
   "id": "1cef98f5",
   "metadata": {},
   "outputs": [
    {
     "name": "stdout",
     "output_type": "stream",
     "text": [
      "10/10 [==============================] - 7s 25ms/step - loss: 0.6436 - class_out_loss: 0.2486 - box_out_loss: 0.3950 - class_out_accuracy: 0.9200 - box_out_accuracy: 0.9900\n"
     ]
    },
    {
     "data": {
      "text/plain": [
       "[0.643639326095581,\n",
       " 0.2486199587583542,\n",
       " 0.39501938223838806,\n",
       " 0.9200000166893005,\n",
       " 0.9900000095367432]"
      ]
     },
     "execution_count": 27,
     "metadata": {},
     "output_type": "execute_result"
    }
   ],
   "source": [
    "model.evaluate(test_dataset)"
   ]
  },
  {
   "cell_type": "code",
   "execution_count": 40,
   "id": "cf9bface",
   "metadata": {},
   "outputs": [],
   "source": [
    "for i in test_dataset.as_numpy_iterator():\n",
    "    img = i[0]\n",
    "    y_true= i[1]['class_out']\n",
    "    bb_true = i[1]['box_out']\n"
   ]
  },
  {
   "cell_type": "code",
   "execution_count": 41,
   "id": "f21f3549",
   "metadata": {},
   "outputs": [],
   "source": [
    "c,bb_pred =model.predict(img)\n",
    "y_pred = []\n",
    "for i in c:\n",
    "    y_pred.append(np.argmax(i))\n",
    "y_pred=np.array(y_pred).reshape(len(c),1)    "
   ]
  },
  {
   "cell_type": "code",
   "execution_count": 42,
   "id": "f99146aa",
   "metadata": {},
   "outputs": [
    {
     "data": {
      "text/plain": [
       "(array([[9],\n",
       "        [4],\n",
       "        [4],\n",
       "        [5],\n",
       "        [4],\n",
       "        [3],\n",
       "        [7],\n",
       "        [8],\n",
       "        [6],\n",
       "        [1]], dtype=uint8),\n",
       " array([[8],\n",
       "        [4],\n",
       "        [4],\n",
       "        [5],\n",
       "        [4],\n",
       "        [2],\n",
       "        [7],\n",
       "        [8],\n",
       "        [6],\n",
       "        [1]], dtype=int64))"
      ]
     },
     "execution_count": 42,
     "metadata": {},
     "output_type": "execute_result"
    }
   ],
   "source": [
    "y_true, y_pred"
   ]
  },
  {
   "cell_type": "code",
   "execution_count": 43,
   "id": "a41ccd44",
   "metadata": {},
   "outputs": [
    {
     "name": "stdout",
     "output_type": "stream",
     "text": [
      "0.8\n",
      "_____________________________________________________\n",
      "              precision    recall  f1-score   support\n",
      "\n",
      "           1       1.00      1.00      1.00         1\n",
      "           2       0.00      0.00      0.00         1\n",
      "           3       0.00      0.00      0.00         0\n",
      "           4       1.00      1.00      1.00         3\n",
      "           5       1.00      1.00      1.00         1\n",
      "           6       1.00      1.00      1.00         1\n",
      "           7       1.00      1.00      1.00         1\n",
      "           8       1.00      0.50      0.67         2\n",
      "           9       0.00      0.00      0.00         0\n",
      "\n",
      "    accuracy                           0.80        10\n",
      "   macro avg       0.67      0.61      0.63        10\n",
      "weighted avg       0.90      0.80      0.83        10\n",
      "\n",
      "_____________________________________________________\n",
      "[[1 0 0 0 0 0 0 0 0]\n",
      " [0 0 1 0 0 0 0 0 0]\n",
      " [0 0 0 0 0 0 0 0 0]\n",
      " [0 0 0 3 0 0 0 0 0]\n",
      " [0 0 0 0 1 0 0 0 0]\n",
      " [0 0 0 0 0 1 0 0 0]\n",
      " [0 0 0 0 0 0 1 0 0]\n",
      " [0 0 0 0 0 0 0 1 1]\n",
      " [0 0 0 0 0 0 0 0 0]]\n"
     ]
    },
    {
     "name": "stderr",
     "output_type": "stream",
     "text": [
      "c:\\users\\ragha\\appdata\\local\\programs\\python\\python39\\lib\\site-packages\\sklearn\\metrics\\_classification.py:1248: UndefinedMetricWarning: Precision and F-score are ill-defined and being set to 0.0 in labels with no predicted samples. Use `zero_division` parameter to control this behavior.\n",
      "  _warn_prf(average, modifier, msg_start, len(result))\n",
      "c:\\users\\ragha\\appdata\\local\\programs\\python\\python39\\lib\\site-packages\\sklearn\\metrics\\_classification.py:1248: UndefinedMetricWarning: Recall and F-score are ill-defined and being set to 0.0 in labels with no true samples. Use `zero_division` parameter to control this behavior.\n",
      "  _warn_prf(average, modifier, msg_start, len(result))\n",
      "c:\\users\\ragha\\appdata\\local\\programs\\python\\python39\\lib\\site-packages\\sklearn\\metrics\\_classification.py:1248: UndefinedMetricWarning: Precision and F-score are ill-defined and being set to 0.0 in labels with no predicted samples. Use `zero_division` parameter to control this behavior.\n",
      "  _warn_prf(average, modifier, msg_start, len(result))\n",
      "c:\\users\\ragha\\appdata\\local\\programs\\python\\python39\\lib\\site-packages\\sklearn\\metrics\\_classification.py:1248: UndefinedMetricWarning: Recall and F-score are ill-defined and being set to 0.0 in labels with no true samples. Use `zero_division` parameter to control this behavior.\n",
      "  _warn_prf(average, modifier, msg_start, len(result))\n",
      "c:\\users\\ragha\\appdata\\local\\programs\\python\\python39\\lib\\site-packages\\sklearn\\metrics\\_classification.py:1248: UndefinedMetricWarning: Precision and F-score are ill-defined and being set to 0.0 in labels with no predicted samples. Use `zero_division` parameter to control this behavior.\n",
      "  _warn_prf(average, modifier, msg_start, len(result))\n",
      "c:\\users\\ragha\\appdata\\local\\programs\\python\\python39\\lib\\site-packages\\sklearn\\metrics\\_classification.py:1248: UndefinedMetricWarning: Recall and F-score are ill-defined and being set to 0.0 in labels with no true samples. Use `zero_division` parameter to control this behavior.\n",
      "  _warn_prf(average, modifier, msg_start, len(result))\n"
     ]
    }
   ],
   "source": [
    "from sklearn.metrics import accuracy_score,confusion_matrix,classification_report\n",
    "\n",
    "print(accuracy_score(y_pred,y_true))\n",
    "print(\"_____________________________________________________\")\n",
    "print(classification_report(y_pred,y_true))\n",
    "print(\"_____________________________________________________\")\n",
    "cm=confusion_matrix(y_pred,y_true)\n",
    "print(cm)"
   ]
  },
  {
   "cell_type": "code",
   "execution_count": 44,
   "id": "ff1a5460",
   "metadata": {},
   "outputs": [
    {
     "data": {
      "text/plain": [
       "Text(69.0, 0.5, 'Truth')"
      ]
     },
     "execution_count": 44,
     "metadata": {},
     "output_type": "execute_result"
    },
    {
     "data": {
      "image/png": "[encoded data removed]",
      "text/plain": [
       "<Figure size 720x504 with 2 Axes>"
      ]
     },
     "metadata": {
      "needs_background": "light"
     },
     "output_type": "display_data"
    }
   ],
   "source": [
    "import seaborn as sns\n",
    "plt.figure(figsize=(10,7))\n",
    "sns.heatmap(cm,annot=True,fmt='d')\n",
    "plt.ylabel(\"Truth\")"
   ]
  },
  {
   "cell_type": "code",
   "execution_count": null,
   "id": "2f897dd1",
   "metadata": {},
   "outputs": [],
   "source": []
  },
  {
   "cell_type": "code",
   "execution_count": null,
   "id": "56d5dc37",
   "metadata": {},
   "outputs": [],
   "source": []
  },
  {
   "cell_type": "code",
   "execution_count": null,
   "id": "525e674b",
   "metadata": {},
   "outputs": [],
   "source": []
  },
  {
   "cell_type": "code",
   "execution_count": null,
   "id": "994d50a7",
   "metadata": {},
   "outputs": [],
   "source": []
  },
  {
   "cell_type": "markdown",
   "id": "471c4483",
   "metadata": {},
   "source": [
    "## Recognizing handwritten digits on paint app:"
   ]
  },
  {
   "cell_type": "code",
   "execution_count": 76,
   "id": "c8bc38f5",
   "metadata": {},
   "outputs": [],
   "source": [
    "from keras.models import load_model\n",
    "model = load_model('digits_localization_model.h5')"
   ]
  },
  {
   "cell_type": "code",
   "execution_count": 113,
   "id": "6ef97347",
   "metadata": {},
   "outputs": [],
   "source": [
    "from tkinter import *\n",
    "import PIL.ImageGrab as ImageGrab\n",
    "import numpy as np\n",
    "import cv2\n",
    "import matplotlib.pyplot as plt\n",
    "\n",
    "root = Tk()\n",
    "root.geometry('550x550+668+100')\n",
    "root.title('Hand writing recognition')\n",
    "\n",
    "ws = root.winfo_screenwidth() # width of the screen\n",
    "hs = root.winfo_screenheight() # height of the screen\n",
    "\n",
    "frame = LabelFrame(root,text='Enter a Character here')\n",
    "frame.pack()\n",
    "\n",
    "frame2 = Frame(root)\n",
    "frame2.pack()\n",
    "\n",
    "def recognize():\n",
    "    global gray\n",
    "    global pred\n",
    "    x = root.winfo_rootx() + canvas.winfo_x() +48\n",
    "    y = root.winfo_rooty() + canvas.winfo_y()\n",
    "    xx = x + canvas.winfo_width()-2\n",
    "    yy = y + canvas.winfo_height()\n",
    "    image = ImageGrab.grab(bbox=(x, y, xx, yy))\n",
    "    x_recog=np.asarray(image)\n",
    "    resized=cv2.resize(x_recog,(80,80))\n",
    "    gray = cv2.cvtColor(resized, cv2.COLOR_BGR2GRAY)\n",
    "    gray_1=gray.reshape(80,80,1)\n",
    "    gray=gray_1.reshape(1,80,80,1)\n",
    "\n",
    "    gray = gray/255\n",
    "    \n",
    "    pred,bb_pred =model.predict(gray)    \n",
    "    \n",
    "    a = pred/pred[0].sum()\n",
    "    prob = a.max()*100\n",
    "    high_index = np.argmax(pred)\n",
    "    \n",
    "    x1 =bb_pred[0][0]*450/FULL_SHAPE[0]\n",
    "    y1=bb_pred[0][1]*450/FULL_SHAPE[0]\n",
    "    x2=x1+ IMG_SHAPE[0]*450/FULL_SHAPE[0]\n",
    "    y2=y1+IMG_SHAPE[0]*450/FULL_SHAPE[0]\n",
    "    canvas.create_rectangle( x1,y1,x2,y2 , outline = \"green\",width = 2)\n",
    "    \n",
    "    canvas.create_text(x1+2,y1-6, text=str(high_index), fill=\"white\", font=('Helvetica 15 bold'))\n",
    "    canvas.create_text(x2-10,y1-6, text=str('{:.2f} %'.format(float(prob))), fill=\"white\", font=('Helvetica 15 bold'))\n",
    "\n",
    "    label.config(text='The character is : '+str(high_index))\n",
    "    label2.config(text='Accuracy : {:.2f}%'.format(float(prob)) )\n",
    "\n",
    "Button(frame2,text='Recognize',anchor=W,command=recognize).grid(row=0,column=0)\n",
    "\n",
    "label = Label(frame2,text='The character is : ')\n",
    "label.grid(row=0,column=1)\n",
    "\n",
    "label2 = Label(frame2,text='Accuracy: ')\n",
    "label2.grid(row=1,column=1)\n",
    "\n",
    "canvas = Canvas(frame,width=450, height=450, bg='black')\n",
    "canvas.pack()\n",
    "\n",
    "def dragging(event):\n",
    "    canvas.create_oval(event.x-7,event.y-7,event.x+7,event.y+7,fill='white',outline='white')\n",
    "    \n",
    "canvas.bind('<B1-Motion>',dragging)\n",
    "\n",
    "def clear():\n",
    "    global canvas\n",
    "    canvas.delete('all')\n",
    "\n",
    "Button(frame,text='clear',command=clear).pack()\n",
    "root.mainloop()"
   ]
  },
  {
   "cell_type": "code",
   "execution_count": null,
   "id": "3f967ba3",
   "metadata": {},
   "outputs": [],
   "source": []
  },
  {
   "cell_type": "code",
   "execution_count": null,
   "id": "9ebd8d09",
   "metadata": {},
   "outputs": [],
   "source": []
  },
  {
   "cell_type": "code",
   "execution_count": null,
   "id": "d49719a3",
   "metadata": {},
   "outputs": [],
   "source": []
  },
  {
   "cell_type": "code",
   "execution_count": null,
   "id": "e878d2f7",
   "metadata": {},
   "outputs": [],
   "source": []
  },
  {
   "cell_type": "code",
   "execution_count": null,
   "id": "d7683221",
   "metadata": {},
   "outputs": [],
   "source": []
  },
  {
   "cell_type": "markdown",
   "id": "573d42ee",
   "metadata": {},
   "source": [
    "# Recognizing handwritten digits in real-time\n",
    "\n",
    "( using cv2 module )"
   ]
  },
  {
   "cell_type": "code",
   "execution_count": 2,
   "id": "2fc622bb",
   "metadata": {},
   "outputs": [],
   "source": [
    "import cv2\n",
    "import numpy as np\n",
    "import matplotlib.pyplot as plt"
   ]
  },
  {
   "cell_type": "code",
   "execution_count": 3,
   "id": "cae9499e",
   "metadata": {},
   "outputs": [],
   "source": [
    "# img=cv2.imread('default.png')\n",
    "# resized = cv2.resize(img,(500,500))\n",
    "# cv2.imshow('profile',resized)\n",
    "# cv2.waitKey(0)\n",
    "# cv2.destroyAllWindows()"
   ]
  },
  {
   "cell_type": "code",
   "execution_count": 7,
   "id": "18e742ec",
   "metadata": {},
   "outputs": [
    {
     "data": {
      "image/png": "[encoded data removed]",
      "text/plain": [
       "<Figure size 432x288 with 1 Axes>"
      ]
     },
     "metadata": {
      "needs_background": "light"
     },
     "output_type": "display_data"
    }
   ],
   "source": [
    "video = cv2.VideoCapture(0)\n",
    "\n",
    "while True:\n",
    "    check,frame = video.read()\n",
    "    frame = frame[100:380 ,200:440 ]\n",
    "    gray = cv2.cvtColor(frame,cv2.COLOR_BGR2GRAY)\n",
    "    gray_resized=cv2.resize(gray,(28,28))\n",
    "    plt.imshow(gray_resized)\n",
    "\n",
    "    gray_resized=cv2.bitwise_not(gray_resized)\n",
    "    plt.imshow(gray_resized)\n",
    "\n",
    "    gray_resized_reshaped=gray_resized.reshape(1,28,28,1)\n",
    "    pred = model.predict(gray_resized_reshaped)\n",
    "    high_ind = np.argmax(pred)\n",
    "    font = cv2.FONT_HERSHEY_COMPLEX\n",
    "    a = pred/pred[0].sum()\n",
    "    prob = a.max()*100\n",
    "    cv2.putText(gray,str(str(high_ind)+','+str(prob)),(100,100),font,1,(255,0,0),2)\n",
    "    cv2.imshow('hand written digit recog',gray)\n",
    "    \n",
    "    if cv2.waitKey(1) & 0xFF == ord('q'):\n",
    "        break\n",
    "\n",
    "video.release()\n",
    "cv2.destroyAllWindows()"
   ]
  },
  {
   "cell_type": "code",
   "execution_count": 95,
   "id": "8e6ce0d7",
   "metadata": {},
   "outputs": [
    {
     "data": {
      "text/plain": [
       "array([ 14, 336,   7])"
      ]
     },
     "execution_count": 95,
     "metadata": {},
     "output_type": "execute_result"
    }
   ],
   "source": [
    "l=np.array([12,334,5])\n",
    "l+2"
   ]
  },
  {
   "cell_type": "code",
   "execution_count": null,
   "id": "9e1eba70",
   "metadata": {},
   "outputs": [],
   "source": []
  }
 ],
 "metadata": {
  "kernelspec": {
   "display_name": "Python 3",
   "language": "python",
   "name": "python3"
  },
  "language_info": {
   "codemirror_mode": {
    "name": "ipython",
    "version": 3
   },
   "file_extension": ".py",
   "mimetype": "text/x-python",
   "name": "python",
   "nbconvert_exporter": "python",
   "pygments_lexer": "ipython3",
   "version": "3.9.0"
  }
 },
 "nbformat": 4,
 "nbformat_minor": 5
}

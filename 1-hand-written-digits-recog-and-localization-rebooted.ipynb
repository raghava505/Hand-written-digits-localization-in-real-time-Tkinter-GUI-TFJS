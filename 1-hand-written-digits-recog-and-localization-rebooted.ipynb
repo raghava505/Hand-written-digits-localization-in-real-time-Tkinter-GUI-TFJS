{
 "cells": [
  {
   "cell_type": "markdown",
   "id": "93ed637b",
   "metadata": {
    "id": "e97b7e7a"
   },
   "source": [
    "Problem statement :\n",
    "\n",
    "Create a GUI so that we can write a digit ( 0-9), and after clicking recognize, the character is recognised along with the bounding box around it."
   ]
  },
  {
   "cell_type": "markdown",
   "id": "cb9014b4",
   "metadata": {
    "id": "35ff18f0"
   },
   "source": [
    "# 1. Load the Mnist dataset"
   ]
  },
  {
   "cell_type": "code",
   "execution_count": 1,
   "id": "bd0c5f68",
   "metadata": {
    "colab": {
     "base_uri": "https://localhost:8080/",
     "height": 344
    },
    "id": "9d717c19",
    "outputId": "6343e43c-7305-4f67-b261-6729aa435e77"
   },
   "outputs": [
    {
     "name": "stderr",
     "output_type": "stream",
     "text": [
      "2025-03-11 21:23:01.349732: I tensorflow/core/platform/cpu_feature_guard.cc:210] This TensorFlow binary is optimized to use available CPU instructions in performance-critical operations.\n",
      "To enable the following instructions: AVX2 FMA, in other operations, rebuild TensorFlow with the appropriate compiler flags.\n",
      "/Users/raghava/Documents/projects/2-HandWriiten digit localization on GUI,TFJS/handwritten_digits_project/lib/python3.9/site-packages/urllib3/__init__.py:35: NotOpenSSLWarning: urllib3 v2 only supports OpenSSL 1.1.1+, currently the 'ssl' module is compiled with 'LibreSSL 2.8.3'. See: https://github.com/urllib3/urllib3/issues/3020\n",
      "  warnings.warn(\n"
     ]
    }
   ],
   "source": [
    "import cv2\n",
    "import numpy as np\n",
    "import matplotlib.pyplot as plt\n",
    "import tensorflow as tf\n",
    "from tensorflow import keras\n",
    "# from tensorflow.keras.layers import Input, Dense, Flatten, Conv2D, MaxPool2D, BatchNormalization, Dropout\n",
    "from tensorflow.keras.models import Model\n",
    "from tensorflow.keras.layers import Input, Conv2D, BatchNormalization, MaxPooling2D, Dropout, Flatten, Dense\n"
   ]
  },
  {
   "cell_type": "code",
   "execution_count": 2,
   "id": "8775fc21",
   "metadata": {},
   "outputs": [
    {
     "name": "stdout",
     "output_type": "stream",
     "text": [
      "Shape of x_train: (60000, 28, 28)\n",
      "Shape of y_train: (60000,)\n",
      "Shape of x_test: (5000, 28, 28)\n",
      "Shape of y_test: (5000,)\n",
      "Shape of x_val: (5000, 28, 28)\n",
      "Shape of y_val: (5000,)\n"
     ]
    }
   ],
   "source": [
    "# Load mnist dataset:\n",
    "data=keras.datasets.mnist.load_data()\n",
    "\n",
    "x_train_raw_data = data[0][0]\n",
    "y_train = data[0][1]\n",
    "\n",
    "half_size = len(data[1][0]) // 2  # use half of the testing data for \"test\" and other half for validataion\n",
    "\n",
    "x_test_raw_data = data[1][0][:half_size]\n",
    "y_test = data[1][1][:half_size]\n",
    "\n",
    "\n",
    "x_val_raw_data = data[1][0][half_size:]\n",
    "y_val = data[1][1][half_size:]\n",
    "\n",
    "\n",
    "\n",
    "print(\"Shape of x_train:\", x_train_raw_data.shape)\n",
    "print(\"Shape of y_train:\", y_train.shape)\n",
    "\n",
    "\n",
    "print(\"Shape of x_test:\", x_test_raw_data.shape)\n",
    "print(\"Shape of y_test:\", y_test.shape)\n",
    "\n",
    "print(\"Shape of x_val:\", x_val_raw_data.shape)\n",
    "print(\"Shape of y_val:\", y_val.shape)\n",
    "\n",
    "# Define a sharpening kernel\n",
    "sharpen_kernel = np.array([[ 0, -1,  0],\n",
    "                           [-1,  8, -1],\n",
    "                           [ 0, -1,  0]])\n",
    "FULL_SHAPE = (80,80)"
   ]
  },
  {
   "cell_type": "code",
   "execution_count": null,
   "id": "150fa6e3",
   "metadata": {},
   "outputs": [],
   "source": [
    "# Plot original and sharpened images side by side\n",
    "fig, axes = plt.subplots(2, 4, figsize=(10, 5))  # 2 rows, 4 columns\n",
    "fig.suptitle(\"Original vs. Sharpened Images\", fontsize=14)\n",
    "\n",
    "for i in range(4):\n",
    "    original_img = x_train_raw_data[i]  # Original Image (28x28)\n",
    "    sharpened_img = cv2.filter2D(original_img, -1, sharpen_kernel).astype(np.uint8)  # Ensuring same dtype\n",
    "    # Original Image\n",
    "    axes[0, i].imshow(original_img, cmap=\"gray\")\n",
    "    axes[0, i].set_title(f\"Original {i}. True label: {y_train[i]}\")\n",
    "    axes[0, i].axis(\"off\")\n",
    "\n",
    "    # Sharpened Image\n",
    "    axes[1, i].imshow(sharpened_img, cmap=\"gray\")\n",
    "    axes[1, i].set_title(f\"Sharpened {i}. True label: {y_train[i]}\")\n",
    "    axes[1, i].axis(\"off\")\n",
    "\n",
    "plt.tight_layout()\n",
    "plt.show()\n",
    "\n",
    "print(\"Final x_train_raw_data shape:\", x_train_raw_data.shape)\n",
    "print(\"Final y_train shape:\", y_train.shape)"
   ]
  },
  {
   "cell_type": "markdown",
   "id": "8d5537be",
   "metadata": {
    "id": "0239eddf"
   },
   "source": [
    "# 2. Preparing the data for object localization "
   ]
  },
  {
   "cell_type": "code",
   "execution_count": null,
   "id": "9ec17bf3",
   "metadata": {
    "id": "4f8bb276"
   },
   "outputs": [],
   "source": [
    "def preprocess_and_create_data(x_raw_data):\n",
    "    y_box=[]\n",
    "    x_new=[]\n",
    "    def localize_obj(img_id):\n",
    "        img_height = np.random.randint(20,FULL_SHAPE[0]-20)\n",
    "        img_width = np.random.randint(20,FULL_SHAPE[0]-20)\n",
    "        \n",
    "        new = np.zeros(FULL_SHAPE)\n",
    "        x = np.random.randint(0,FULL_SHAPE[0]-img_height)\n",
    "        y = np.random.randint(0,FULL_SHAPE[0]-img_width)\n",
    "\n",
    "        original_img = x_raw_data[img_id]\n",
    "        sharpened_img = cv2.filter2D(original_img, -1, sharpen_kernel)  #sharpen the image\n",
    "\n",
    "        image = cv2.resize(sharpened_img, dsize=(img_width,img_height))    \n",
    "        \n",
    "        new[x:x+img_height,y:y+img_width] = image\n",
    "        x_new.append(new)\n",
    "        y_box.append([y,x,img_height,img_width])\n",
    "        \n",
    "    \n",
    "    # Normalize the images\n",
    "    x_raw_data = x_raw_data / 255\n",
    "\n",
    "    #cropping unnecessary part\n",
    "    x_raw_data = x_raw_data[:, 2:26, 2:26]\n",
    "\n",
    "    for i in range(len(x_raw_data)):\n",
    "        localize_obj(i)\n",
    "    return x_new,y_box"
   ]
  },
  {
   "cell_type": "code",
   "execution_count": null,
   "id": "de27ca58",
   "metadata": {
    "id": "3909cff0"
   },
   "outputs": [],
   "source": [
    "x_train,y_train_box_data = preprocess_and_create_data(x_train_raw_data)"
   ]
  },
  {
   "cell_type": "code",
   "execution_count": null,
   "id": "6b4cbd65",
   "metadata": {},
   "outputs": [],
   "source": [
    "x_test,y_test_box_data = preprocess_and_create_data(x_test_raw_data)"
   ]
  },
  {
   "cell_type": "code",
   "execution_count": null,
   "id": "1f1d01b3",
   "metadata": {},
   "outputs": [],
   "source": [
    "x_val,y_val_box_data = preprocess_and_create_data(x_val_raw_data)"
   ]
  },
  {
   "cell_type": "code",
   "execution_count": null,
   "id": "8da5e8a7",
   "metadata": {
    "colab": {
     "base_uri": "https://localhost:8080/",
     "height": 285
    },
    "id": "7a6e8ef6",
    "outputId": "0eb1bb36-41b5-42cb-b3e4-892f0b36d5e5"
   },
   "outputs": [],
   "source": [
    "plt.imshow(x_train[90], cmap=\"gray\", vmin=0, vmax=1)\n",
    "print(y_train_box_data[1])"
   ]
  },
  {
   "cell_type": "code",
   "execution_count": null,
   "id": "5c983f78",
   "metadata": {
    "id": "cf27fd89"
   },
   "outputs": [],
   "source": [
    "def plot_bb(img,x,y,height,width,pred_coords=[]):\n",
    "    plt.imshow(img, cmap=\"gray\", vmin=0, vmax=1)\n",
    "    x_coor = x\n",
    "    y_coor = y\n",
    "    plt.plot([x_coor,x_coor+width] , [y_coor,y_coor],color='g',linewidth=2)\n",
    "    plt.plot([x_coor,x_coor+width] , [y_coor+height,y_coor+height],color='g',linewidth=2)\n",
    "    plt.plot([x_coor,x_coor] , [y_coor,y_coor+height],color='g',linewidth=2)\n",
    "    plt.plot([x_coor+width,x_coor+width] , [y_coor,y_coor+height],color='g',linewidth=2)    \n",
    "    if len(pred_coords)==4:\n",
    "        x1,y1,hei,wid = pred_coords\n",
    "        limit = FULL_SHAPE[0]-1\n",
    "        if x1 < limit and y1 < limit :\n",
    "            x2 =min(limit , x1+wid) \n",
    "            y2 =min(limit , y1+hei )\n",
    "            plt.plot([x1,x2] , [y1,y1],color='r',linewidth=2)\n",
    "            plt.plot([x1,x2] , [y2,y2],color='r',linewidth=2)\n",
    "            plt.plot([x1,x1] , [y1,y2],color='r',linewidth=2)\n",
    "            plt.plot([x2,x2] , [y1,y2],color='r',linewidth=2)"
   ]
  },
  {
   "cell_type": "code",
   "execution_count": null,
   "id": "2b54ce20",
   "metadata": {
    "colab": {
     "base_uri": "https://localhost:8080/",
     "height": 268
    },
    "id": "0b8be2ae",
    "outputId": "5ac6842d-d26f-424c-aa2a-d0ddaae9f5e9"
   },
   "outputs": [],
   "source": [
    "image_id = 90\n",
    "plot_bb(x_train[image_id], y_train_box_data[image_id][0] , y_train_box_data[image_id][1] ,y_train_box_data[image_id][2] , y_train_box_data[image_id][3] , [7,2,14,15])"
   ]
  },
  {
   "cell_type": "code",
   "execution_count": null,
   "id": "1e0f2d40",
   "metadata": {
    "colab": {
     "base_uri": "https://localhost:8080/",
     "height": 228
    },
    "id": "5cf183fd",
    "outputId": "34dab0e8-d4be-4019-ea42-4e64b0a39581",
    "scrolled": true
   },
   "outputs": [],
   "source": [
    "for i in range(20):\n",
    "    plt.subplot(4,5,i+1)\n",
    "    plot_bb(x_train[i], y_train_box_data[i][0] , y_train_box_data[i][1],y_train_box_data[i][2],y_train_box_data[i][3])\n",
    "plt.show()"
   ]
  },
  {
   "cell_type": "code",
   "execution_count": null,
   "id": "b153c4f2",
   "metadata": {},
   "outputs": [],
   "source": [
    "def form_tensorflow_dataset(x, y, y_box):\n",
    "    x = np.array(x).reshape(len(x), FULL_SHAPE[0], FULL_SHAPE[1], 1)\n",
    "    y = np.array(y)  # Ensure y is a NumPy array\n",
    "    y_box = np.array(y_box, dtype=np.float32)  # Convert y_box to NumPy array with explicit dtype\n",
    "    \n",
    "    dataset1 = tf.data.Dataset.from_tensor_slices(x.astype(np.float32))\n",
    "    dataset2 = tf.data.Dataset.from_tensor_slices({'class_out': y, 'box_out': y_box})\n",
    "    dataset = tf.data.Dataset.zip((dataset1, dataset2))\n",
    "    dataset = dataset.shuffle(200)\n",
    "    dataset = dataset.batch(64)\n",
    "    dataset = dataset.prefetch(4)\n",
    "\n",
    "    print(x.shape)\n",
    "    print(y.shape)\n",
    "    print(y_box.shape)  # Print shape instead of length\n",
    "    return dataset\n"
   ]
  },
  {
   "cell_type": "code",
   "execution_count": null,
   "id": "680999e8",
   "metadata": {},
   "outputs": [],
   "source": [
    "train_dataset = form_tensorflow_dataset(x_train,y_train, y_train_box_data)\n",
    "test_dataset = form_tensorflow_dataset(x_test,y_test, y_test_box_data)\n",
    "val_dataset = form_tensorflow_dataset(x_val,y_val, y_val_box_data)"
   ]
  },
  {
   "cell_type": "code",
   "execution_count": null,
   "id": "636c5314",
   "metadata": {
    "colab": {
     "base_uri": "https://localhost:8080/"
    },
    "id": "b50dc819",
    "outputId": "4c916570-9da4-4e72-b983-fad3c0192e05"
   },
   "outputs": [],
   "source": [
    "print(len(train_dataset))\n",
    "print(len(test_dataset))\n",
    "print(len(val_dataset))"
   ]
  },
  {
   "cell_type": "markdown",
   "id": "0afda061",
   "metadata": {
    "id": "6a3013e7"
   },
   "source": [
    "# 3. Creating CNN model for image classifiation and object localization"
   ]
  },
  {
   "cell_type": "markdown",
   "id": "823f1c56",
   "metadata": {
    "id": "484b7189"
   },
   "source": [
    "##### For better model performance : \n",
    "- Data Augumentaion\n",
    "- increase the complexity of the model\n",
    "- use dropout regularization\n",
    "- batch normalization\n",
    "- Scale the image"
   ]
  },
  {
   "cell_type": "code",
   "execution_count": null,
   "id": "5ef9bb3b",
   "metadata": {
    "colab": {
     "base_uri": "https://localhost:8080/"
    },
    "id": "50bd4e66",
    "outputId": "18e4601f-775e-4504-bf31-dc0dbd271782",
    "scrolled": true
   },
   "outputs": [],
   "source": [
    "\n",
    "# inp = Input(shape = x_train[0].shape , name = 'image')\n",
    "# x = inp\n",
    "# for i in range(0,3):\n",
    "#     n_filters = 2**(4+i)\n",
    "#     x = Conv2D(n_filters,3,activation=\"relu\")(x)\n",
    "#     x = MaxPool2D(2)(x)\n",
    "\n",
    "# x = BatchNormalization()(x)\n",
    "# x=Flatten()(x)\n",
    "# x = Dense(512 , activation=\"relu\")(x)\n",
    "# x = Dense(256 , activation='relu')(x)\n",
    "\n",
    "# class_out = Dense(10 , activation='softmax' , name='class_out')(x)\n",
    "\n",
    "\n",
    "# box_out = Dense(4, name='box_out')(x)\n",
    "\n",
    "\n",
    "# model = keras.models.Model(inp , [class_out,box_out])\n",
    "# model.summary()\n",
    "\n",
    "\n",
    "inp = Input(shape=x_train[0].shape + (1,), name='image')  # Expand the shape\n",
    "x = inp\n",
    "\n",
    "# First Convolutional Block\n",
    "x = Conv2D(32, (3, 3), activation='relu', padding='same', data_format='channels_last')(x)\n",
    "x = BatchNormalization()(x)\n",
    "x = Conv2D(32, (3, 3), activation='relu', padding='same', data_format='channels_last')(x)\n",
    "x = BatchNormalization()(x)\n",
    "x = MaxPooling2D(pool_size=(2, 2), strides=2, padding='valid')(x)\n",
    "x = Dropout(0.25)(x)\n",
    "\n",
    "# Second Convolutional Block\n",
    "x = Conv2D(64, (3, 3), activation='relu', padding='same', data_format='channels_last')(x)\n",
    "x = BatchNormalization()(x)\n",
    "x = Conv2D(64, (3, 3), activation='relu', padding='same', data_format='channels_last')(x)\n",
    "x = BatchNormalization()(x)\n",
    "x = MaxPooling2D(pool_size=(2, 2), strides=2, padding='valid')(x)\n",
    "x = Dropout(0.25)(x)\n",
    "\n",
    "# Fully Connected Layers\n",
    "x = Flatten()(x)\n",
    "x = Dense(512, activation='relu')(x)\n",
    "x = BatchNormalization()(x)\n",
    "x = Dropout(0.25)(x)\n",
    "x = Dense(1024, activation='relu')(x)\n",
    "x = BatchNormalization()(x)\n",
    "x = Dropout(0.5)(x)\n",
    "\n",
    "# Output Layers\n",
    "class_out = Dense(10, activation='softmax', name='class_out')(x)\n",
    "box_out = Dense(4, name='box_out')(x)\n",
    "\n",
    "model = Model(inp, [class_out, box_out])\n",
    "model.summary()\n"
   ]
  },
  {
   "cell_type": "markdown",
   "id": "c996eb78",
   "metadata": {
    "id": "148f1097"
   },
   "source": [
    "# 4. Custom metric : IOU\n",
    "- getting error while using this as my metric, will find the solution soon"
   ]
  },
  {
   "cell_type": "code",
   "execution_count": 3,
   "id": "99ecc21a",
   "metadata": {
    "id": "e380149f"
   },
   "outputs": [],
   "source": [
    "class IOU(tf.keras.metrics.Metric):\n",
    "    def __init__(self, **kwargs):\n",
    "        super(IOU , self).__init__(**kwargs)\n",
    "        \n",
    "        self.iou = self.add_weight(name='iou', initializer='zeros')\n",
    "        self.total_iou = self.add_weight(name='total_iou', initializer='zeros')\n",
    "        self.num_ex = self.add_weight(name='num_ex', initializer='zeros')\n",
    "        \n",
    "    def update_state(self, y_true, y_pred, sample_weight=None):\n",
    "        def get_box(y):\n",
    "            y = tf.cast(y, tf.float32)\n",
    "            rows, cols, height, width = y[:, 0], y[:, 1], y[:, 2], y[:, 3]\n",
    "            x1, y1 = rows, cols\n",
    "            x2, y2 = x1 + width, y1 + height\n",
    "            return x1, y1, x2, y2\n",
    "        \n",
    "        def get_area(x1, y1, x2, y2):\n",
    "            return tf.math.abs(x2 - x1) * tf.math.abs(y2 - y1)\n",
    "        \n",
    "        tx1, ty1, tx2, ty2 = get_box(y_true)\n",
    "        px1, py1, px2, py2 = get_box(y_pred)\n",
    "        \n",
    "        x1 = tf.maximum(tx1, px1)\n",
    "        x2 = tf.minimum(tx2, px2)\n",
    "        y1 = tf.maximum(ty1, py1)\n",
    "        y2 = tf.minimum(ty2, py2)\n",
    "        \n",
    "        i_area = get_area(x1, y1, x2, y2)\n",
    "        u_area = get_area(tx1, ty1, tx2, ty2) + get_area(px1, py1, px2, py2) - i_area\n",
    "        \n",
    "        iou = tf.math.divide(i_area, u_area)\n",
    "        self.num_ex.assign_add(1)\n",
    "        self.total_iou.assign_add(tf.reduce_mean(iou))\n",
    "        self.iou.assign(tf.math.divide(self.total_iou, self.num_ex))\n",
    "        \n",
    "    def result(self):\n",
    "        return self.iou\n",
    "    \n",
    "    def reset_state(self):\n",
    "        self.iou.assign(0)\n",
    "        self.total_iou.assign(0)\n",
    "        self.num_ex.assign(0)\n"
   ]
  },
  {
   "cell_type": "markdown",
   "id": "038f0582",
   "metadata": {
    "id": "f7c5f99e"
   },
   "source": [
    "# 5. Compiling the model"
   ]
  },
  {
   "cell_type": "code",
   "execution_count": null,
   "id": "fbf4a67c",
   "metadata": {
    "id": "308e300d",
    "scrolled": true
   },
   "outputs": [],
   "source": [
    "optimizer = keras.optimizers.Adam(learning_rate=0.001, beta_1=0.9, beta_2=0.999)\n",
    "model.compile(\n",
    "loss = {\n",
    "  'class_out' : 'sparse_categorical_crossentropy',\n",
    "    'box_out':'mse'\n",
    "},\n",
    "    \n",
    "optimizer=optimizer,\n",
    "metrics={\n",
    "    'class_out' :'accuracy',\n",
    "    'box_out':IOU()                   # here we need to define our custom metric : IOU\n",
    "}\n",
    ")\n",
    "\n",
    "#Define LearningRateScheduler\n",
    "reduce_lr = keras.callbacks.LearningRateScheduler(lambda epoch: 1e-3 * 0.9 ** epoch)\n"
   ]
  },
  {
   "cell_type": "markdown",
   "id": "30a11ec3",
   "metadata": {
    "id": "51955e72"
   },
   "source": [
    "# 6. Custom callback : Model testing"
   ]
  },
  {
   "cell_type": "code",
   "execution_count": null,
   "id": "48df8472",
   "metadata": {
    "id": "fe6c7bfa"
   },
   "outputs": [],
   "source": [
    "testing = test_dataset.take(1)\n",
    "for i in testing.as_numpy_iterator():\n",
    "    img = i[0]\n",
    "    y_true= i[1]['class_out']\n",
    "    bb_true = i[1]['box_out']"
   ]
  },
  {
   "cell_type": "code",
   "execution_count": null,
   "id": "62f08be1",
   "metadata": {
    "id": "581e9225"
   },
   "outputs": [],
   "source": [
    "def test_model(model) : \n",
    "    c,bb_pred =model.predict(img)\n",
    "    \n",
    "    y_pred = []\n",
    "    for i in c:\n",
    "        y_pred.append(np.argmax(i))\n",
    "    y_pred=np.array(y_pred).reshape(len(c),1)        \n",
    "        \n",
    "    # we have y_true,y_pred,bb_true,bb_pred\n",
    "    \n",
    "    for i in range(5):\n",
    "        plt.subplot(1,5,i+1)\n",
    "        plot_bb(img[i], bb_true[i][0] , bb_true[i][1],bb_true[i][2],bb_true[i][3], bb_pred[i])\n",
    "#         plt.xlabel('Truth : '+str( y_true[i][0]))\n",
    "        plt.xlabel('pred : '+ str(y_pred[i][0]) )\n",
    "        plt.xticks([])\n",
    "        plt.yticks([])\n",
    "    plt.show()"
   ]
  },
  {
   "cell_type": "code",
   "execution_count": null,
   "id": "399e29e1",
   "metadata": {
    "colab": {
     "base_uri": "https://localhost:8080/",
     "height": 421
    },
    "id": "140d059c",
    "outputId": "b315a968-7fe5-4697-d107-1c4fbdb3fa96"
   },
   "outputs": [],
   "source": [
    "test_model(model)"
   ]
  },
  {
   "cell_type": "code",
   "execution_count": null,
   "id": "2b8614d4",
   "metadata": {
    "id": "35926e46"
   },
   "outputs": [],
   "source": [
    "# creating clustom callback so that we can view the test iages while training itself.\n",
    "\n",
    "class ShowValImages(tf.keras.callbacks.Callback):\n",
    "    def on_epoch_end(self,epoch,logs=None):\n",
    "        test_model(self.model)"
   ]
  },
  {
   "cell_type": "code",
   "execution_count": null,
   "id": "51b2e9f4",
   "metadata": {
    "id": "ece29fb6"
   },
   "outputs": [],
   "source": [
    "callbacks_list = [ShowValImages(), reduce_lr]"
   ]
  },
  {
   "cell_type": "markdown",
   "id": "37786c00",
   "metadata": {
    "id": "94260c7c"
   },
   "source": [
    "# 7. Training the model - i've done the training on colab"
   ]
  },
  {
   "cell_type": "code",
   "execution_count": null,
   "id": "d836e41c",
   "metadata": {
    "id": "9f628858"
   },
   "outputs": [],
   "source": [
    "history = model.fit(train_dataset,epochs=40,validation_data=val_dataset,callbacks=callbacks_list)"
   ]
  },
  {
   "cell_type": "code",
   "execution_count": null,
   "id": "49e555d1",
   "metadata": {},
   "outputs": [],
   "source": [
    "plt.figure(figsize=(13, 5))\n",
    "plt.plot(history.history['accuracy'])\n",
    "plt.plot(history.history['val_accuracy'])\n",
    "plt.title('Model Accuracy')\n",
    "plt.xlabel('Epochs')\n",
    "plt.ylabel('Accuracy')\n",
    "plt.legend(['Train','Test'])\n",
    "plt.grid()\n",
    "plt.show()"
   ]
  },
  {
   "cell_type": "markdown",
   "id": "82d0f939",
   "metadata": {
    "id": "6d86aafb"
   },
   "source": [
    "# 8. Saving/Loading the model"
   ]
  },
  {
   "cell_type": "code",
   "execution_count": null,
   "id": "fa158f70",
   "metadata": {
    "id": "97730017"
   },
   "outputs": [],
   "source": [
    "model.save('digits_localization_model_version1.h5')"
   ]
  },
  {
   "cell_type": "code",
   "execution_count": 4,
   "id": "118d0120",
   "metadata": {},
   "outputs": [
    {
     "name": "stderr",
     "output_type": "stream",
     "text": [
      "WARNING:absl:Compiled the loaded model, but the compiled metrics have yet to be built. `model.compile_metrics` will be empty until you train or evaluate the model.\n"
     ]
    }
   ],
   "source": [
    "model = tf.keras.models.load_model(\n",
    "    \"digits_localization_model_version1.h5\",\n",
    "    custom_objects={'IOU': IOU, 'mse': keras.losses.MeanSquaredError()}\n",
    ")"
   ]
  },
  {
   "cell_type": "markdown",
   "id": "4bcddfa4",
   "metadata": {
    "id": "2cd59585"
   },
   "source": [
    "# 9. Testing and Evaluating the model"
   ]
  },
  {
   "cell_type": "code",
   "execution_count": 27,
   "id": "6f692a60",
   "metadata": {
    "id": "93f92844"
   },
   "outputs": [],
   "source": [
    "def predict(i):\n",
    "    yyyy , bbbb = model.predict(x_train[i].reshape(1,FULL_SHAPE[0],FULL_SHAPE[1],1))\n",
    "    plot_bb(x_train[i], y_train_box_data[i][0] , y_train_box_data[i][1],y_train_box_data[i][2],y_train_box_data[i][3] , bbbb[0])\n",
    "    plt.xlabel(\"Truth : \"+ str(y_train[i][0]))\n",
    "    plt.ylabel(\"Predicted : \"+ str(np.argmax(yyyy)))\n",
    "    plt.show()"
   ]
  },
  {
   "cell_type": "code",
   "execution_count": 28,
   "id": "e5d179cb",
   "metadata": {
    "id": "9ae135b9"
   },
   "outputs": [
    {
     "name": "stdout",
     "output_type": "stream",
     "text": [
      "\u001b[1m2/2\u001b[0m \u001b[32m━━━━━━━━━━━━━━━━━━━━\u001b[0m\u001b[37m\u001b[0m \u001b[1m0s\u001b[0m 134ms/step\n"
     ]
    },
    {
     "data": {
      "image/png": "[encoded data removed]",
      "text/plain": [
       "<Figure size 640x480 with 5 Axes>"
      ]
     },
     "metadata": {},
     "output_type": "display_data"
    }
   ],
   "source": [
    "# for i in range(20,30):\n",
    "#     predict(21+i)\n",
    "\n",
    "test_model(model)"
   ]
  },
  {
   "cell_type": "code",
   "execution_count": 29,
   "id": "a3f3e987",
   "metadata": {
    "id": "1cef98f5"
   },
   "outputs": [
    {
     "name": "stdout",
     "output_type": "stream",
     "text": [
      "\u001b[1m 99/938\u001b[0m \u001b[32m━━\u001b[0m\u001b[37m━━━━━━━━━━━━━━━━━━\u001b[0m \u001b[1m2:46\u001b[0m 199ms/step - box_out_iou: 0.3578 - box_out_loss: 1577.0424 - class_out_accuracy: 0.0990 - class_out_loss: 2.5941 - loss: 1579.6364"
     ]
    },
    {
     "ename": "KeyboardInterrupt",
     "evalue": "",
     "output_type": "error",
     "traceback": [
      "\u001b[0;31m---------------------------------------------------------------------------\u001b[0m",
      "\u001b[0;31mKeyboardInterrupt\u001b[0m                         Traceback (most recent call last)",
      "Cell \u001b[0;32mIn[29], line 1\u001b[0m\n\u001b[0;32m----> 1\u001b[0m \u001b[43mmodel\u001b[49m\u001b[38;5;241;43m.\u001b[39;49m\u001b[43mevaluate\u001b[49m\u001b[43m(\u001b[49m\u001b[43mtrain_dataset\u001b[49m\u001b[43m)\u001b[49m\n",
      "File \u001b[0;32m~/Documents/projects/2-HandWriiten digit localization on GUI,TFJS/handwritten_digits_project/lib/python3.9/site-packages/keras/src/utils/traceback_utils.py:117\u001b[0m, in \u001b[0;36mfilter_traceback.<locals>.error_handler\u001b[0;34m(*args, **kwargs)\u001b[0m\n\u001b[1;32m    115\u001b[0m filtered_tb \u001b[38;5;241m=\u001b[39m \u001b[38;5;28;01mNone\u001b[39;00m\n\u001b[1;32m    116\u001b[0m \u001b[38;5;28;01mtry\u001b[39;00m:\n\u001b[0;32m--> 117\u001b[0m     \u001b[38;5;28;01mreturn\u001b[39;00m \u001b[43mfn\u001b[49m\u001b[43m(\u001b[49m\u001b[38;5;241;43m*\u001b[39;49m\u001b[43margs\u001b[49m\u001b[43m,\u001b[49m\u001b[43m \u001b[49m\u001b[38;5;241;43m*\u001b[39;49m\u001b[38;5;241;43m*\u001b[39;49m\u001b[43mkwargs\u001b[49m\u001b[43m)\u001b[49m\n\u001b[1;32m    118\u001b[0m \u001b[38;5;28;01mexcept\u001b[39;00m \u001b[38;5;167;01mException\u001b[39;00m \u001b[38;5;28;01mas\u001b[39;00m e:\n\u001b[1;32m    119\u001b[0m     filtered_tb \u001b[38;5;241m=\u001b[39m _process_traceback_frames(e\u001b[38;5;241m.\u001b[39m__traceback__)\n",
      "File \u001b[0;32m~/Documents/projects/2-HandWriiten digit localization on GUI,TFJS/handwritten_digits_project/lib/python3.9/site-packages/keras/src/backend/tensorflow/trainer.py:483\u001b[0m, in \u001b[0;36mTensorFlowTrainer.evaluate\u001b[0;34m(self, x, y, batch_size, verbose, sample_weight, steps, callbacks, return_dict, **kwargs)\u001b[0m\n\u001b[1;32m    481\u001b[0m \u001b[38;5;28;01mfor\u001b[39;00m step, iterator \u001b[38;5;129;01min\u001b[39;00m epoch_iterator:\n\u001b[1;32m    482\u001b[0m     callbacks\u001b[38;5;241m.\u001b[39mon_test_batch_begin(step)\n\u001b[0;32m--> 483\u001b[0m     logs \u001b[38;5;241m=\u001b[39m \u001b[38;5;28;43mself\u001b[39;49m\u001b[38;5;241;43m.\u001b[39;49m\u001b[43mtest_function\u001b[49m\u001b[43m(\u001b[49m\u001b[43miterator\u001b[49m\u001b[43m)\u001b[49m\n\u001b[1;32m    484\u001b[0m     callbacks\u001b[38;5;241m.\u001b[39mon_test_batch_end(step, logs)\n\u001b[1;32m    485\u001b[0m     \u001b[38;5;28;01mif\u001b[39;00m \u001b[38;5;28mself\u001b[39m\u001b[38;5;241m.\u001b[39mstop_evaluating:\n",
      "File \u001b[0;32m~/Documents/projects/2-HandWriiten digit localization on GUI,TFJS/handwritten_digits_project/lib/python3.9/site-packages/keras/src/backend/tensorflow/trainer.py:219\u001b[0m, in \u001b[0;36mTensorFlowTrainer._make_function.<locals>.function\u001b[0;34m(iterator)\u001b[0m\n\u001b[1;32m    215\u001b[0m \u001b[38;5;28;01mdef\u001b[39;00m\u001b[38;5;250m \u001b[39m\u001b[38;5;21mfunction\u001b[39m(iterator):\n\u001b[1;32m    216\u001b[0m     \u001b[38;5;28;01mif\u001b[39;00m \u001b[38;5;28misinstance\u001b[39m(\n\u001b[1;32m    217\u001b[0m         iterator, (tf\u001b[38;5;241m.\u001b[39mdata\u001b[38;5;241m.\u001b[39mIterator, tf\u001b[38;5;241m.\u001b[39mdistribute\u001b[38;5;241m.\u001b[39mDistributedIterator)\n\u001b[1;32m    218\u001b[0m     ):\n\u001b[0;32m--> 219\u001b[0m         opt_outputs \u001b[38;5;241m=\u001b[39m \u001b[43mmulti_step_on_iterator\u001b[49m\u001b[43m(\u001b[49m\u001b[43miterator\u001b[49m\u001b[43m)\u001b[49m\n\u001b[1;32m    220\u001b[0m         \u001b[38;5;28;01mif\u001b[39;00m \u001b[38;5;129;01mnot\u001b[39;00m opt_outputs\u001b[38;5;241m.\u001b[39mhas_value():\n\u001b[1;32m    221\u001b[0m             \u001b[38;5;28;01mraise\u001b[39;00m \u001b[38;5;167;01mStopIteration\u001b[39;00m\n",
      "File \u001b[0;32m~/Documents/projects/2-HandWriiten digit localization on GUI,TFJS/handwritten_digits_project/lib/python3.9/site-packages/tensorflow/python/util/traceback_utils.py:150\u001b[0m, in \u001b[0;36mfilter_traceback.<locals>.error_handler\u001b[0;34m(*args, **kwargs)\u001b[0m\n\u001b[1;32m    148\u001b[0m filtered_tb \u001b[38;5;241m=\u001b[39m \u001b[38;5;28;01mNone\u001b[39;00m\n\u001b[1;32m    149\u001b[0m \u001b[38;5;28;01mtry\u001b[39;00m:\n\u001b[0;32m--> 150\u001b[0m   \u001b[38;5;28;01mreturn\u001b[39;00m \u001b[43mfn\u001b[49m\u001b[43m(\u001b[49m\u001b[38;5;241;43m*\u001b[39;49m\u001b[43margs\u001b[49m\u001b[43m,\u001b[49m\u001b[43m \u001b[49m\u001b[38;5;241;43m*\u001b[39;49m\u001b[38;5;241;43m*\u001b[39;49m\u001b[43mkwargs\u001b[49m\u001b[43m)\u001b[49m\n\u001b[1;32m    151\u001b[0m \u001b[38;5;28;01mexcept\u001b[39;00m \u001b[38;5;167;01mException\u001b[39;00m \u001b[38;5;28;01mas\u001b[39;00m e:\n\u001b[1;32m    152\u001b[0m   filtered_tb \u001b[38;5;241m=\u001b[39m _process_traceback_frames(e\u001b[38;5;241m.\u001b[39m__traceback__)\n",
      "File \u001b[0;32m~/Documents/projects/2-HandWriiten digit localization on GUI,TFJS/handwritten_digits_project/lib/python3.9/site-packages/tensorflow/python/eager/polymorphic_function/polymorphic_function.py:833\u001b[0m, in \u001b[0;36mFunction.__call__\u001b[0;34m(self, *args, **kwds)\u001b[0m\n\u001b[1;32m    830\u001b[0m compiler \u001b[38;5;241m=\u001b[39m \u001b[38;5;124m\"\u001b[39m\u001b[38;5;124mxla\u001b[39m\u001b[38;5;124m\"\u001b[39m \u001b[38;5;28;01mif\u001b[39;00m \u001b[38;5;28mself\u001b[39m\u001b[38;5;241m.\u001b[39m_jit_compile \u001b[38;5;28;01melse\u001b[39;00m \u001b[38;5;124m\"\u001b[39m\u001b[38;5;124mnonXla\u001b[39m\u001b[38;5;124m\"\u001b[39m\n\u001b[1;32m    832\u001b[0m \u001b[38;5;28;01mwith\u001b[39;00m OptionalXlaContext(\u001b[38;5;28mself\u001b[39m\u001b[38;5;241m.\u001b[39m_jit_compile):\n\u001b[0;32m--> 833\u001b[0m   result \u001b[38;5;241m=\u001b[39m \u001b[38;5;28;43mself\u001b[39;49m\u001b[38;5;241;43m.\u001b[39;49m\u001b[43m_call\u001b[49m\u001b[43m(\u001b[49m\u001b[38;5;241;43m*\u001b[39;49m\u001b[43margs\u001b[49m\u001b[43m,\u001b[49m\u001b[43m \u001b[49m\u001b[38;5;241;43m*\u001b[39;49m\u001b[38;5;241;43m*\u001b[39;49m\u001b[43mkwds\u001b[49m\u001b[43m)\u001b[49m\n\u001b[1;32m    835\u001b[0m new_tracing_count \u001b[38;5;241m=\u001b[39m \u001b[38;5;28mself\u001b[39m\u001b[38;5;241m.\u001b[39mexperimental_get_tracing_count()\n\u001b[1;32m    836\u001b[0m without_tracing \u001b[38;5;241m=\u001b[39m (tracing_count \u001b[38;5;241m==\u001b[39m new_tracing_count)\n",
      "File \u001b[0;32m~/Documents/projects/2-HandWriiten digit localization on GUI,TFJS/handwritten_digits_project/lib/python3.9/site-packages/tensorflow/python/eager/polymorphic_function/polymorphic_function.py:878\u001b[0m, in \u001b[0;36mFunction._call\u001b[0;34m(self, *args, **kwds)\u001b[0m\n\u001b[1;32m    875\u001b[0m \u001b[38;5;28mself\u001b[39m\u001b[38;5;241m.\u001b[39m_lock\u001b[38;5;241m.\u001b[39mrelease()\n\u001b[1;32m    876\u001b[0m \u001b[38;5;66;03m# In this case we have not created variables on the first call. So we can\u001b[39;00m\n\u001b[1;32m    877\u001b[0m \u001b[38;5;66;03m# run the first trace but we should fail if variables are created.\u001b[39;00m\n\u001b[0;32m--> 878\u001b[0m results \u001b[38;5;241m=\u001b[39m \u001b[43mtracing_compilation\u001b[49m\u001b[38;5;241;43m.\u001b[39;49m\u001b[43mcall_function\u001b[49m\u001b[43m(\u001b[49m\n\u001b[1;32m    879\u001b[0m \u001b[43m    \u001b[49m\u001b[43margs\u001b[49m\u001b[43m,\u001b[49m\u001b[43m \u001b[49m\u001b[43mkwds\u001b[49m\u001b[43m,\u001b[49m\u001b[43m \u001b[49m\u001b[38;5;28;43mself\u001b[39;49m\u001b[38;5;241;43m.\u001b[39;49m\u001b[43m_variable_creation_config\u001b[49m\n\u001b[1;32m    880\u001b[0m \u001b[43m\u001b[49m\u001b[43m)\u001b[49m\n\u001b[1;32m    881\u001b[0m \u001b[38;5;28;01mif\u001b[39;00m \u001b[38;5;28mself\u001b[39m\u001b[38;5;241m.\u001b[39m_created_variables:\n\u001b[1;32m    882\u001b[0m   \u001b[38;5;28;01mraise\u001b[39;00m \u001b[38;5;167;01mValueError\u001b[39;00m(\u001b[38;5;124m\"\u001b[39m\u001b[38;5;124mCreating variables on a non-first call to a function\u001b[39m\u001b[38;5;124m\"\u001b[39m\n\u001b[1;32m    883\u001b[0m                    \u001b[38;5;124m\"\u001b[39m\u001b[38;5;124m decorated with tf.function.\u001b[39m\u001b[38;5;124m\"\u001b[39m)\n",
      "File \u001b[0;32m~/Documents/projects/2-HandWriiten digit localization on GUI,TFJS/handwritten_digits_project/lib/python3.9/site-packages/tensorflow/python/eager/polymorphic_function/tracing_compilation.py:139\u001b[0m, in \u001b[0;36mcall_function\u001b[0;34m(args, kwargs, tracing_options)\u001b[0m\n\u001b[1;32m    137\u001b[0m bound_args \u001b[38;5;241m=\u001b[39m function\u001b[38;5;241m.\u001b[39mfunction_type\u001b[38;5;241m.\u001b[39mbind(\u001b[38;5;241m*\u001b[39margs, \u001b[38;5;241m*\u001b[39m\u001b[38;5;241m*\u001b[39mkwargs)\n\u001b[1;32m    138\u001b[0m flat_inputs \u001b[38;5;241m=\u001b[39m function\u001b[38;5;241m.\u001b[39mfunction_type\u001b[38;5;241m.\u001b[39munpack_inputs(bound_args)\n\u001b[0;32m--> 139\u001b[0m \u001b[38;5;28;01mreturn\u001b[39;00m \u001b[43mfunction\u001b[49m\u001b[38;5;241;43m.\u001b[39;49m\u001b[43m_call_flat\u001b[49m\u001b[43m(\u001b[49m\u001b[43m  \u001b[49m\u001b[38;5;66;43;03m# pylint: disable=protected-access\u001b[39;49;00m\n\u001b[1;32m    140\u001b[0m \u001b[43m    \u001b[49m\u001b[43mflat_inputs\u001b[49m\u001b[43m,\u001b[49m\u001b[43m \u001b[49m\u001b[43mcaptured_inputs\u001b[49m\u001b[38;5;241;43m=\u001b[39;49m\u001b[43mfunction\u001b[49m\u001b[38;5;241;43m.\u001b[39;49m\u001b[43mcaptured_inputs\u001b[49m\n\u001b[1;32m    141\u001b[0m \u001b[43m\u001b[49m\u001b[43m)\u001b[49m\n",
      "File \u001b[0;32m~/Documents/projects/2-HandWriiten digit localization on GUI,TFJS/handwritten_digits_project/lib/python3.9/site-packages/tensorflow/python/eager/polymorphic_function/concrete_function.py:1322\u001b[0m, in \u001b[0;36mConcreteFunction._call_flat\u001b[0;34m(self, tensor_inputs, captured_inputs)\u001b[0m\n\u001b[1;32m   1318\u001b[0m possible_gradient_type \u001b[38;5;241m=\u001b[39m gradients_util\u001b[38;5;241m.\u001b[39mPossibleTapeGradientTypes(args)\n\u001b[1;32m   1319\u001b[0m \u001b[38;5;28;01mif\u001b[39;00m (possible_gradient_type \u001b[38;5;241m==\u001b[39m gradients_util\u001b[38;5;241m.\u001b[39mPOSSIBLE_GRADIENT_TYPES_NONE\n\u001b[1;32m   1320\u001b[0m     \u001b[38;5;129;01mand\u001b[39;00m executing_eagerly):\n\u001b[1;32m   1321\u001b[0m   \u001b[38;5;66;03m# No tape is watching; skip to running the function.\u001b[39;00m\n\u001b[0;32m-> 1322\u001b[0m   \u001b[38;5;28;01mreturn\u001b[39;00m \u001b[38;5;28;43mself\u001b[39;49m\u001b[38;5;241;43m.\u001b[39;49m\u001b[43m_inference_function\u001b[49m\u001b[38;5;241;43m.\u001b[39;49m\u001b[43mcall_preflattened\u001b[49m\u001b[43m(\u001b[49m\u001b[43margs\u001b[49m\u001b[43m)\u001b[49m\n\u001b[1;32m   1323\u001b[0m forward_backward \u001b[38;5;241m=\u001b[39m \u001b[38;5;28mself\u001b[39m\u001b[38;5;241m.\u001b[39m_select_forward_and_backward_functions(\n\u001b[1;32m   1324\u001b[0m     args,\n\u001b[1;32m   1325\u001b[0m     possible_gradient_type,\n\u001b[1;32m   1326\u001b[0m     executing_eagerly)\n\u001b[1;32m   1327\u001b[0m forward_function, args_with_tangents \u001b[38;5;241m=\u001b[39m forward_backward\u001b[38;5;241m.\u001b[39mforward()\n",
      "File \u001b[0;32m~/Documents/projects/2-HandWriiten digit localization on GUI,TFJS/handwritten_digits_project/lib/python3.9/site-packages/tensorflow/python/eager/polymorphic_function/atomic_function.py:216\u001b[0m, in \u001b[0;36mAtomicFunction.call_preflattened\u001b[0;34m(self, args)\u001b[0m\n\u001b[1;32m    214\u001b[0m \u001b[38;5;28;01mdef\u001b[39;00m\u001b[38;5;250m \u001b[39m\u001b[38;5;21mcall_preflattened\u001b[39m(\u001b[38;5;28mself\u001b[39m, args: Sequence[core\u001b[38;5;241m.\u001b[39mTensor]) \u001b[38;5;241m-\u001b[39m\u001b[38;5;241m>\u001b[39m Any:\n\u001b[1;32m    215\u001b[0m \u001b[38;5;250m  \u001b[39m\u001b[38;5;124;03m\"\"\"Calls with flattened tensor inputs and returns the structured output.\"\"\"\u001b[39;00m\n\u001b[0;32m--> 216\u001b[0m   flat_outputs \u001b[38;5;241m=\u001b[39m \u001b[38;5;28;43mself\u001b[39;49m\u001b[38;5;241;43m.\u001b[39;49m\u001b[43mcall_flat\u001b[49m\u001b[43m(\u001b[49m\u001b[38;5;241;43m*\u001b[39;49m\u001b[43margs\u001b[49m\u001b[43m)\u001b[49m\n\u001b[1;32m    217\u001b[0m   \u001b[38;5;28;01mreturn\u001b[39;00m \u001b[38;5;28mself\u001b[39m\u001b[38;5;241m.\u001b[39mfunction_type\u001b[38;5;241m.\u001b[39mpack_output(flat_outputs)\n",
      "File \u001b[0;32m~/Documents/projects/2-HandWriiten digit localization on GUI,TFJS/handwritten_digits_project/lib/python3.9/site-packages/tensorflow/python/eager/polymorphic_function/atomic_function.py:251\u001b[0m, in \u001b[0;36mAtomicFunction.call_flat\u001b[0;34m(self, *args)\u001b[0m\n\u001b[1;32m    249\u001b[0m \u001b[38;5;28;01mwith\u001b[39;00m record\u001b[38;5;241m.\u001b[39mstop_recording():\n\u001b[1;32m    250\u001b[0m   \u001b[38;5;28;01mif\u001b[39;00m \u001b[38;5;28mself\u001b[39m\u001b[38;5;241m.\u001b[39m_bound_context\u001b[38;5;241m.\u001b[39mexecuting_eagerly():\n\u001b[0;32m--> 251\u001b[0m     outputs \u001b[38;5;241m=\u001b[39m \u001b[38;5;28;43mself\u001b[39;49m\u001b[38;5;241;43m.\u001b[39;49m\u001b[43m_bound_context\u001b[49m\u001b[38;5;241;43m.\u001b[39;49m\u001b[43mcall_function\u001b[49m\u001b[43m(\u001b[49m\n\u001b[1;32m    252\u001b[0m \u001b[43m        \u001b[49m\u001b[38;5;28;43mself\u001b[39;49m\u001b[38;5;241;43m.\u001b[39;49m\u001b[43mname\u001b[49m\u001b[43m,\u001b[49m\n\u001b[1;32m    253\u001b[0m \u001b[43m        \u001b[49m\u001b[38;5;28;43mlist\u001b[39;49m\u001b[43m(\u001b[49m\u001b[43margs\u001b[49m\u001b[43m)\u001b[49m\u001b[43m,\u001b[49m\n\u001b[1;32m    254\u001b[0m \u001b[43m        \u001b[49m\u001b[38;5;28;43mlen\u001b[39;49m\u001b[43m(\u001b[49m\u001b[38;5;28;43mself\u001b[39;49m\u001b[38;5;241;43m.\u001b[39;49m\u001b[43mfunction_type\u001b[49m\u001b[38;5;241;43m.\u001b[39;49m\u001b[43mflat_outputs\u001b[49m\u001b[43m)\u001b[49m\u001b[43m,\u001b[49m\n\u001b[1;32m    255\u001b[0m \u001b[43m    \u001b[49m\u001b[43m)\u001b[49m\n\u001b[1;32m    256\u001b[0m   \u001b[38;5;28;01melse\u001b[39;00m:\n\u001b[1;32m    257\u001b[0m     outputs \u001b[38;5;241m=\u001b[39m make_call_op_in_graph(\n\u001b[1;32m    258\u001b[0m         \u001b[38;5;28mself\u001b[39m,\n\u001b[1;32m    259\u001b[0m         \u001b[38;5;28mlist\u001b[39m(args),\n\u001b[1;32m    260\u001b[0m         \u001b[38;5;28mself\u001b[39m\u001b[38;5;241m.\u001b[39m_bound_context\u001b[38;5;241m.\u001b[39mfunction_call_options\u001b[38;5;241m.\u001b[39mas_attrs(),\n\u001b[1;32m    261\u001b[0m     )\n",
      "File \u001b[0;32m~/Documents/projects/2-HandWriiten digit localization on GUI,TFJS/handwritten_digits_project/lib/python3.9/site-packages/tensorflow/python/eager/context.py:1500\u001b[0m, in \u001b[0;36mContext.call_function\u001b[0;34m(self, name, tensor_inputs, num_outputs)\u001b[0m\n\u001b[1;32m   1498\u001b[0m cancellation_context \u001b[38;5;241m=\u001b[39m cancellation\u001b[38;5;241m.\u001b[39mcontext()\n\u001b[1;32m   1499\u001b[0m \u001b[38;5;28;01mif\u001b[39;00m cancellation_context \u001b[38;5;129;01mis\u001b[39;00m \u001b[38;5;28;01mNone\u001b[39;00m:\n\u001b[0;32m-> 1500\u001b[0m   outputs \u001b[38;5;241m=\u001b[39m \u001b[43mexecute\u001b[49m\u001b[38;5;241;43m.\u001b[39;49m\u001b[43mexecute\u001b[49m\u001b[43m(\u001b[49m\n\u001b[1;32m   1501\u001b[0m \u001b[43m      \u001b[49m\u001b[43mname\u001b[49m\u001b[38;5;241;43m.\u001b[39;49m\u001b[43mdecode\u001b[49m\u001b[43m(\u001b[49m\u001b[38;5;124;43m\"\u001b[39;49m\u001b[38;5;124;43mutf-8\u001b[39;49m\u001b[38;5;124;43m\"\u001b[39;49m\u001b[43m)\u001b[49m\u001b[43m,\u001b[49m\n\u001b[1;32m   1502\u001b[0m \u001b[43m      \u001b[49m\u001b[43mnum_outputs\u001b[49m\u001b[38;5;241;43m=\u001b[39;49m\u001b[43mnum_outputs\u001b[49m\u001b[43m,\u001b[49m\n\u001b[1;32m   1503\u001b[0m \u001b[43m      \u001b[49m\u001b[43minputs\u001b[49m\u001b[38;5;241;43m=\u001b[39;49m\u001b[43mtensor_inputs\u001b[49m\u001b[43m,\u001b[49m\n\u001b[1;32m   1504\u001b[0m \u001b[43m      \u001b[49m\u001b[43mattrs\u001b[49m\u001b[38;5;241;43m=\u001b[39;49m\u001b[43mattrs\u001b[49m\u001b[43m,\u001b[49m\n\u001b[1;32m   1505\u001b[0m \u001b[43m      \u001b[49m\u001b[43mctx\u001b[49m\u001b[38;5;241;43m=\u001b[39;49m\u001b[38;5;28;43mself\u001b[39;49m\u001b[43m,\u001b[49m\n\u001b[1;32m   1506\u001b[0m \u001b[43m  \u001b[49m\u001b[43m)\u001b[49m\n\u001b[1;32m   1507\u001b[0m \u001b[38;5;28;01melse\u001b[39;00m:\n\u001b[1;32m   1508\u001b[0m   outputs \u001b[38;5;241m=\u001b[39m execute\u001b[38;5;241m.\u001b[39mexecute_with_cancellation(\n\u001b[1;32m   1509\u001b[0m       name\u001b[38;5;241m.\u001b[39mdecode(\u001b[38;5;124m\"\u001b[39m\u001b[38;5;124mutf-8\u001b[39m\u001b[38;5;124m\"\u001b[39m),\n\u001b[1;32m   1510\u001b[0m       num_outputs\u001b[38;5;241m=\u001b[39mnum_outputs,\n\u001b[0;32m   (...)\u001b[0m\n\u001b[1;32m   1514\u001b[0m       cancellation_manager\u001b[38;5;241m=\u001b[39mcancellation_context,\n\u001b[1;32m   1515\u001b[0m   )\n",
      "File \u001b[0;32m~/Documents/projects/2-HandWriiten digit localization on GUI,TFJS/handwritten_digits_project/lib/python3.9/site-packages/tensorflow/python/eager/execute.py:53\u001b[0m, in \u001b[0;36mquick_execute\u001b[0;34m(op_name, num_outputs, inputs, attrs, ctx, name)\u001b[0m\n\u001b[1;32m     51\u001b[0m \u001b[38;5;28;01mtry\u001b[39;00m:\n\u001b[1;32m     52\u001b[0m   ctx\u001b[38;5;241m.\u001b[39mensure_initialized()\n\u001b[0;32m---> 53\u001b[0m   tensors \u001b[38;5;241m=\u001b[39m \u001b[43mpywrap_tfe\u001b[49m\u001b[38;5;241;43m.\u001b[39;49m\u001b[43mTFE_Py_Execute\u001b[49m\u001b[43m(\u001b[49m\u001b[43mctx\u001b[49m\u001b[38;5;241;43m.\u001b[39;49m\u001b[43m_handle\u001b[49m\u001b[43m,\u001b[49m\u001b[43m \u001b[49m\u001b[43mdevice_name\u001b[49m\u001b[43m,\u001b[49m\u001b[43m \u001b[49m\u001b[43mop_name\u001b[49m\u001b[43m,\u001b[49m\n\u001b[1;32m     54\u001b[0m \u001b[43m                                      \u001b[49m\u001b[43minputs\u001b[49m\u001b[43m,\u001b[49m\u001b[43m \u001b[49m\u001b[43mattrs\u001b[49m\u001b[43m,\u001b[49m\u001b[43m \u001b[49m\u001b[43mnum_outputs\u001b[49m\u001b[43m)\u001b[49m\n\u001b[1;32m     55\u001b[0m \u001b[38;5;28;01mexcept\u001b[39;00m core\u001b[38;5;241m.\u001b[39m_NotOkStatusException \u001b[38;5;28;01mas\u001b[39;00m e:\n\u001b[1;32m     56\u001b[0m   \u001b[38;5;28;01mif\u001b[39;00m name \u001b[38;5;129;01mis\u001b[39;00m \u001b[38;5;129;01mnot\u001b[39;00m \u001b[38;5;28;01mNone\u001b[39;00m:\n",
      "\u001b[0;31mKeyboardInterrupt\u001b[0m: "
     ]
    }
   ],
   "source": [
    "model.evaluate(train_dataset)"
   ]
  },
  {
   "cell_type": "code",
   "execution_count": null,
   "id": "aa150cd7",
   "metadata": {},
   "outputs": [],
   "source": [
    "model.evaluate(val_dataset)"
   ]
  },
  {
   "cell_type": "code",
   "execution_count": 30,
   "id": "46b05b19",
   "metadata": {
    "id": "cf9bface"
   },
   "outputs": [
    {
     "name": "stderr",
     "output_type": "stream",
     "text": [
      "2025-03-11 20:44:19.493991: W tensorflow/core/framework/local_rendezvous.cc:404] Local rendezvous is aborting with status: OUT_OF_RANGE: End of sequence\n"
     ]
    }
   ],
   "source": [
    "imgs=[]\n",
    "y_true=[]\n",
    "bb_true=[]\n",
    "for i in val_dataset.as_numpy_iterator():\n",
    "    imgs.append(i[0])\n",
    "    \n",
    "    y_true.append(np.expand_dims(i[1]['class_out'], axis=1))\n",
    "    bb_true.append(i[1]['box_out'])\n",
    "imgs=np.vstack(imgs)\n",
    "y_true=np.vstack(y_true)\n",
    "bb_true=np.vstack(bb_true)"
   ]
  },
  {
   "cell_type": "code",
   "execution_count": 31,
   "id": "8ac5fa92",
   "metadata": {
    "id": "f21f3549"
   },
   "outputs": [
    {
     "name": "stdout",
     "output_type": "stream",
     "text": [
      "\u001b[1m157/157\u001b[0m \u001b[32m━━━━━━━━━━━━━━━━━━━━\u001b[0m\u001b[37m\u001b[0m \u001b[1m16s\u001b[0m 99ms/step\n"
     ]
    }
   ],
   "source": [
    "c,bb_pred =model.predict(imgs)\n",
    "y_pred = []\n",
    "for i in c:\n",
    "    y_pred.append(np.argmax(i))\n",
    "y_pred=np.array(y_pred).reshape(len(c),1)    "
   ]
  },
  {
   "cell_type": "code",
   "execution_count": 32,
   "id": "a5ed1978",
   "metadata": {
    "id": "f99146aa"
   },
   "outputs": [
    {
     "name": "stdout",
     "output_type": "stream",
     "text": [
      "5000\n",
      "5000\n",
      "5000\n",
      "5000\n"
     ]
    }
   ],
   "source": [
    "print( len(y_pred))\n",
    "print(len(imgs))\n",
    "print(len(bb_true))\n",
    "print(len(y_true))"
   ]
  },
  {
   "cell_type": "code",
   "execution_count": 33,
   "id": "541bd5ef",
   "metadata": {
    "id": "a41ccd44"
   },
   "outputs": [
    {
     "name": "stdout",
     "output_type": "stream",
     "text": [
      "0.0948\n",
      "_____________________________________________________\n",
      "              precision    recall  f1-score   support\n",
      "\n",
      "           0       0.00      0.00      0.00         0\n",
      "           1       0.01      0.02      0.01       237\n",
      "           2       0.00      0.00      0.00         0\n",
      "           3       0.00      0.00      0.00         0\n",
      "           4       0.00      0.00      0.00         0\n",
      "           5       0.00      0.00      0.00         2\n",
      "           6       0.00      0.00      0.00         0\n",
      "           7       0.00      0.00      0.00         0\n",
      "           8       0.00      0.00      0.00         0\n",
      "           9       0.96      0.10      0.18      4761\n",
      "\n",
      "    accuracy                           0.09      5000\n",
      "   macro avg       0.10      0.01      0.02      5000\n",
      "weighted avg       0.92      0.09      0.17      5000\n",
      "\n",
      "_____________________________________________________\n",
      "[[  0   0   0   0   0   0   0   0   0   0]\n",
      " [ 41   4  26  18  25  20  31  20  33  19]\n",
      " [  0   0   0   0   0   0   0   0   0   0]\n",
      " [  0   0   0   0   0   0   0   0   0   0]\n",
      " [  0   0   0   0   0   0   0   0   0   0]\n",
      " [  0   0   0   1   0   0   1   0   0   0]\n",
      " [  0   0   0   0   0   0   0   0   0   0]\n",
      " [  0   0   0   0   0   0   0   0   0   0]\n",
      " [  0   0   0   0   0   0   0   0   0   0]\n",
      " [479 560 476 491 457 416 464 496 452 470]]\n"
     ]
    },
    {
     "name": "stderr",
     "output_type": "stream",
     "text": [
      "/Users/raghava/Documents/projects/2-HandWriiten digit localization on GUI,TFJS/handwritten_digits_project/lib/python3.9/site-packages/sklearn/metrics/_classification.py:1565: UndefinedMetricWarning: Recall is ill-defined and being set to 0.0 in labels with no true samples. Use `zero_division` parameter to control this behavior.\n",
      "  _warn_prf(average, modifier, f\"{metric.capitalize()} is\", len(result))\n",
      "/Users/raghava/Documents/projects/2-HandWriiten digit localization on GUI,TFJS/handwritten_digits_project/lib/python3.9/site-packages/sklearn/metrics/_classification.py:1565: UndefinedMetricWarning: Recall is ill-defined and being set to 0.0 in labels with no true samples. Use `zero_division` parameter to control this behavior.\n",
      "  _warn_prf(average, modifier, f\"{metric.capitalize()} is\", len(result))\n",
      "/Users/raghava/Documents/projects/2-HandWriiten digit localization on GUI,TFJS/handwritten_digits_project/lib/python3.9/site-packages/sklearn/metrics/_classification.py:1565: UndefinedMetricWarning: Recall is ill-defined and being set to 0.0 in labels with no true samples. Use `zero_division` parameter to control this behavior.\n",
      "  _warn_prf(average, modifier, f\"{metric.capitalize()} is\", len(result))\n"
     ]
    }
   ],
   "source": [
    "from sklearn.metrics import accuracy_score,confusion_matrix,classification_report\n",
    "\n",
    "print(accuracy_score(y_pred,y_true))\n",
    "print(\"_____________________________________________________\")\n",
    "print(classification_report(y_pred,y_true))\n",
    "print(\"_____________________________________________________\")\n",
    "cm=confusion_matrix(y_pred,y_true)\n",
    "print(cm)"
   ]
  },
  {
   "cell_type": "code",
   "execution_count": 34,
   "id": "ac91987a",
   "metadata": {
    "id": "ff1a5460"
   },
   "outputs": [
    {
     "data": {
      "text/plain": [
       "Text(95.72222222222221, 0.5, 'Truth')"
      ]
     },
     "execution_count": 34,
     "metadata": {},
     "output_type": "execute_result"
    },
    {
     "data": {
      "image/png": "[encoded data removed]",
      "text/plain": [
       "<Figure size 1000x700 with 2 Axes>"
      ]
     },
     "metadata": {},
     "output_type": "display_data"
    }
   ],
   "source": [
    "import seaborn as sns\n",
    "plt.figure(figsize=(10,7))\n",
    "sns.heatmap(cm,annot=True,fmt='d')\n",
    "plt.ylabel(\"Truth\")"
   ]
  },
  {
   "cell_type": "markdown",
   "id": "4d35b78f",
   "metadata": {
    "id": "471c4483"
   },
   "source": [
    "# 10. Recognizing handwritten digits on paint app:"
   ]
  },
  {
   "cell_type": "code",
   "execution_count": null,
   "id": "841b9b58",
   "metadata": {
    "id": "c8bc38f5"
   },
   "outputs": [],
   "source": [
    "model = tf.keras.models.load_model(\"digits_localization_model_version1.h5\",custom_objects={'IOU': IOU})"
   ]
  },
  {
   "cell_type": "code",
   "execution_count": 7,
   "id": "430814f1",
   "metadata": {},
   "outputs": [
    {
     "name": "stdout",
     "output_type": "stream",
     "text": [
      "Scaling values: [80]\n",
      "\u001b[1m1/1\u001b[0m \u001b[32m━━━━━━━━━━━━━━━━━━━━\u001b[0m\u001b[37m\u001b[0m \u001b[1m0s\u001b[0m 48ms/step\n",
      "Prob: 100.00% | Label: 1 | Bounding Box: [[23.978735 22.197569 25.509884 26.343052]]\n",
      "Scaling values: [80]\n",
      "\u001b[1m1/1\u001b[0m \u001b[32m━━━━━━━━━━━━━━━━━━━━\u001b[0m\u001b[37m\u001b[0m \u001b[1m0s\u001b[0m 54ms/step\n",
      "Prob: 100.00% | Label: 1 | Bounding Box: [[23.978735 22.197569 25.509884 26.343052]]\n"
     ]
    },
    {
     "data": {
      "image/png": "[encoded data removed]",
      "text/plain": [
       "<Figure size 640x480 with 1 Axes>"
      ]
     },
     "metadata": {},
     "output_type": "display_data"
    }
   ],
   "source": [
    "from tkinter import *\n",
    "import PIL.ImageGrab as ImageGrab\n",
    "import numpy as np\n",
    "import cv2\n",
    "import matplotlib.pyplot as plt\n",
    "\n",
    "# Initialize Tkinter Window\n",
    "root = Tk()\n",
    "root.geometry('450x450+668+100')\n",
    "root.title('Handwriting Recognition')\n",
    "\n",
    "# # Expandable frame to ensure everything fits\n",
    "# frame = LabelFrame(root, text='Enter a Character here')\n",
    "# frame.pack(fill=BOTH, expand=True)  # Ensure the frame expands properly\n",
    "\n",
    "# # Create Canvas First (Ensuring Visibility)\n",
    "# canvas = Canvas(frame, width=350, height=350, bg='black')\n",
    "# canvas.pack()\n",
    "\n",
    "frame = LabelFrame(root, text='Enter a Character here')\n",
    "frame.pack(fill=BOTH, expand=True)  # Ensure it expands properly\n",
    "\n",
    "canvas = Canvas(frame, width=350, height=350, bg='black')\n",
    "canvas.grid(row=0, column=0, sticky=\"nsew\")\n",
    "frame.grid_rowconfigure(0, weight=1)\n",
    "frame.grid_columnconfigure(0, weight=1)\n",
    "root.update_idletasks()\n",
    "# Frame for Buttons and Labels\n",
    "frame2 = Frame(root)\n",
    "frame2.pack()\n",
    "\n",
    "# Define Recognize Function\n",
    "def recognize():\n",
    "    global gray\n",
    "    global pred\n",
    "    \n",
    "    # Get Canvas Coordinates\n",
    "    x = root.winfo_rootx() + canvas.winfo_x() + 48\n",
    "    y = root.winfo_rooty() + canvas.winfo_y()\n",
    "    xx = x + canvas.winfo_width() - 2\n",
    "    yy = y + canvas.winfo_height()\n",
    "    \n",
    "    # Capture Image from Canvas\n",
    "    image = ImageGrab.grab(bbox=(x, y, xx, yy))\n",
    "    x_recog = np.asarray(image)\n",
    "    \n",
    "    lis = [80]  # List of scaling values\n",
    "    print(\"Scaling values:\", lis)\n",
    "    \n",
    "    all_prob, all_y, all_bb = [], [], []\n",
    "\n",
    "    # Padding function\n",
    "    def pad_frame_once(src_: list, pad) -> list:\n",
    "        output = [[pad, *line, pad] for line in src_]\n",
    "        return [[pad] * len(output[0]), *output, [pad] * len(output[0])]\n",
    "\n",
    "    def pad_grid(src_, padding_size: int, pad=0):\n",
    "        reference = src_\n",
    "        for _ in range(padding_size):\n",
    "            reference = pad_frame_once(reference, pad)\n",
    "        return reference\n",
    "\n",
    "    # Process image for each scaling value\n",
    "    for s in lis:\n",
    "        resized = cv2.resize(x_recog, (s, s))\n",
    "        gray = cv2.cvtColor(resized, cv2.COLOR_BGR2GRAY)\n",
    "        \n",
    "        # Ensure FULL_SHAPE is defined somewhere in the script\n",
    "        gray = pad_grid(gray, (FULL_SHAPE[0] - s) // 2)\n",
    "        plt.imshow(gray, cmap='gray')  # Use colormap to visualize grayscale\n",
    "\n",
    "        # Reshape for Model Input\n",
    "        gray_1 = np.array(gray).reshape(FULL_SHAPE[0], FULL_SHAPE[1], 1)\n",
    "        gray = gray_1.reshape(1, FULL_SHAPE[0], FULL_SHAPE[1], 1) / 255.0  # Normalize\n",
    "\n",
    "        # Predict using the model\n",
    "        pred, bb_pred = model.predict(gray)\n",
    "\n",
    "        all_bb.append(bb_pred)\n",
    "        prob = (pred / pred[0].sum()).max() * 100\n",
    "        high_index = np.argmax(pred)\n",
    "\n",
    "        all_y.append(high_index)\n",
    "        all_prob.append(prob)\n",
    "\n",
    "    # Determine Best Prediction\n",
    "    right_index = np.argmax(np.array(all_prob))\n",
    "    prob = all_prob[right_index]\n",
    "    high_index = all_y[right_index]\n",
    "    bb_pred = all_bb[right_index]\n",
    "\n",
    "    print(f\"Prob: {prob:.2f}% | Label: {high_index} | Bounding Box: {bb_pred}\")\n",
    "\n",
    "    # Scale Bounding Box\n",
    "    scale_val = lis[right_index]\n",
    "    x1 = bb_pred[0][0] * 350 / FULL_SHAPE[0]\n",
    "    y1 = bb_pred[0][1] * 350 / FULL_SHAPE[0]\n",
    "    x2 = x1 + bb_pred[0][3] * 350 / FULL_SHAPE[0]\n",
    "    y2 = y1 + bb_pred[0][2] * 350 / FULL_SHAPE[0]\n",
    "\n",
    "    # Draw Bounding Box and Label on Canvas\n",
    "    canvas.create_rectangle(x1, y1, x2, y2, outline=\"green\", width=2)\n",
    "    canvas.create_text(x1 + 2, y1 - 6, text=str(high_index), fill=\"white\", font=('Helvetica', 15, 'bold'))\n",
    "    canvas.create_text(x2 - 10, y1 - 6, text=f'{prob:.2f}%', fill=\"white\", font=('Helvetica', 15, 'bold'))\n",
    "\n",
    "    # Update Labels\n",
    "    label.config(text=f'The character is: {high_index}')\n",
    "    label2.config(text=f'Accuracy: {prob:.2f}%')\n",
    "\n",
    "# Dragging Function for Drawing\n",
    "def dragging(event):\n",
    "    canvas.create_oval(event.x - 7, event.y - 7, event.x + 7, event.y + 7, fill='white', outline='white')\n",
    "\n",
    "canvas.bind('<B1-Motion>', dragging)\n",
    "\n",
    "# Clear Function\n",
    "def clear():\n",
    "    canvas.delete('all')\n",
    "\n",
    "# Buttons and Labels\n",
    "Button(frame2, text='Recognize', anchor=W, command=recognize).grid(row=0, column=0)\n",
    "Button(frame, text='Clear', command=clear).pack()\n",
    "\n",
    "label = Label(frame2, text='The character is: ')\n",
    "label.grid(row=0, column=1)\n",
    "\n",
    "label2 = Label(frame2, text='Accuracy: ')\n",
    "label2.grid(row=1, column=1)\n",
    "\n",
    "# Run Tkinter Event Loop\n",
    "root.mainloop()"
   ]
  },
  {
   "cell_type": "code",
   "execution_count": 11,
   "id": "aab081e2",
   "metadata": {},
   "outputs": [],
   "source": [
    "# Import Module\n",
    "from tkinter import *\n",
    "\n",
    "# create root window\n",
    "root = Tk()\n",
    "\n",
    "# root window title and dimension\n",
    "root.title(\"Welcome to GeekForGeeks\")\n",
    "# Set geometry(widthxheight)\n",
    "root.geometry('350x200')\n",
    "\n",
    "# adding a label to the root window\n",
    "lbl = Label(root, text = \"Are you a Geek?\")\n",
    "lbl.grid()\n",
    "\n",
    "# function to display text when\n",
    "# button is clicked\n",
    "def clicked():\n",
    "    lbl.configure(text = \"I just got clicked\")\n",
    "\n",
    "# button widget with red color text\n",
    "# inside\n",
    "btn = Button(root, text = \"Click me\" ,\n",
    "             fg = \"red\", command=clicked)\n",
    "# set Button grid\n",
    "btn.grid(column=1, row=0)\n",
    "\n",
    "# Execute Tkinter\n",
    "root.mainloop()\n"
   ]
  },
  {
   "cell_type": "markdown",
   "id": "627140af",
   "metadata": {
    "id": "69907572"
   },
   "source": [
    "# 11. Converting to model.json using tensorflow.js"
   ]
  },
  {
   "cell_type": "code",
   "execution_count": null,
   "id": "500d5c48",
   "metadata": {
    "id": "e878d2f7",
    "scrolled": true
   },
   "outputs": [],
   "source": [
    "!pip install tensorflowjs"
   ]
  },
  {
   "cell_type": "code",
   "execution_count": null,
   "id": "ae4e4562",
   "metadata": {
    "id": "6d1f9e43"
   },
   "outputs": [],
   "source": [
    "!tensorflowjs_converter --input_format=keras digits_localization_model.h5 new_json_digits_localization_model"
   ]
  },
  {
   "cell_type": "code",
   "execution_count": null,
   "id": "21e1a4ac",
   "metadata": {
    "id": "9e1eba70"
   },
   "outputs": [],
   "source": []
  }
 ],
 "metadata": {
  "accelerator": "GPU",
  "colab": {
   "provenance": []
  },
  "gpuClass": "standard",
  "kernelspec": {
   "display_name": "handwritten_digits_project",
   "language": "python",
   "name": "python3"
  },
  "language_info": {
   "codemirror_mode": {
    "name": "ipython",
    "version": 3
   },
   "file_extension": ".py",
   "mimetype": "text/x-python",
   "name": "python",
   "nbconvert_exporter": "python",
   "pygments_lexer": "ipython3",
   "version": "3.9.6"
  }
 },
 "nbformat": 4,
 "nbformat_minor": 5
}
